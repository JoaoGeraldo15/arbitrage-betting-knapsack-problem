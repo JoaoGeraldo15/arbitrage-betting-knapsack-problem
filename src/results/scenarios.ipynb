{
 "cells": [
  {
   "cell_type": "code",
   "execution_count": 1,
   "outputs": [],
   "source": [
    "from typing import List\n",
    "import matplotlib.pyplot as plt\n",
    "from src.repository.surebet_repository import SurebetRepository\n",
    "from src.repository.game_repository import GameRepository\n",
    "from src.genetic.arbitrage import CrossOverEnum, Population\n",
    "from src.util import ExportadorDeGraficos, PickleSerializer\n",
    "from datetime import datetime, timedelta\n",
    "import math\n",
    "import pandas as pd\n",
    "game_repository = GameRepository()\n",
    "repository = SurebetRepository()"
   ],
   "metadata": {
    "collapsed": false,
    "ExecuteTime": {
     "end_time": "2023-11-21T21:47:04.582943971Z",
     "start_time": "2023-11-21T21:47:01.583377715Z"
    }
   },
   "id": "88b563872d261a5"
  },
  {
   "cell_type": "markdown",
   "source": [
    "### Parâmetros para execução do experimento"
   ],
   "metadata": {
    "collapsed": false
   },
   "id": "98afaef36fe4d956"
  },
  {
   "cell_type": "code",
   "execution_count": 2,
   "outputs": [],
   "source": [
    "n_generations = 150\n",
    "n_individuals = 50\n",
    "mutation_rate = 0.05\n",
    "crossover_rate = 0.98\n",
    "budget=100\n",
    "crossover=CrossOverEnum.UNIFORM_CROSSOVER"
   ],
   "metadata": {
    "collapsed": false,
    "ExecuteTime": {
     "end_time": "2023-11-21T21:48:09.340899443Z",
     "start_time": "2023-11-21T21:48:09.309611544Z"
    }
   },
   "id": "116677808df7a017"
  },
  {
   "cell_type": "markdown",
   "source": [
    "### Método para gerar intervalos entre dois tempos (horas)"
   ],
   "metadata": {
    "collapsed": false
   },
   "id": "8ccb7dbc625cde9a"
  },
  {
   "cell_type": "code",
   "execution_count": 3,
   "outputs": [],
   "source": [
    "def gera_intervalos(start=\"2023-09-02 14:00:00\", end=\"2023-09-02 15:00:00\", freq=5) -> List[str]:\n",
    "    \n",
    "    start_time = datetime.strptime(start, \"%Y-%m-%d %H:%M:%S\")\n",
    "    end_time = datetime.strptime(end, \"%Y-%m-%d %H:%M:%S\")\n",
    "    \n",
    "    interval = timedelta(minutes=freq)\n",
    "    \n",
    "    current_time = start_time\n",
    "    intervals = [start]\n",
    "    while current_time < end_time:\n",
    "        current_time += interval\n",
    "        intervals.append(current_time.strftime('%Y-%m-%d %H:%M:%S'))\n",
    "    \n",
    "    return intervals"
   ],
   "metadata": {
    "collapsed": false,
    "ExecuteTime": {
     "end_time": "2023-11-21T21:48:12.160415924Z",
     "start_time": "2023-11-21T21:48:12.125872322Z"
    }
   },
   "id": "6adb91ac35485f57"
  },
  {
   "cell_type": "markdown",
   "source": [
    "<h3>Métodos auxiliares para plot, consulta ao banco e munipulação dos dados</h3>"
   ],
   "metadata": {
    "collapsed": false
   },
   "id": "ef1ad6ce6f11bfb5"
  },
  {
   "cell_type": "code",
   "execution_count": 4,
   "outputs": [],
   "source": [
    "def get_teams(ids):\n",
    "    return game_repository.get_teams(ids)"
   ],
   "metadata": {
    "collapsed": false,
    "ExecuteTime": {
     "end_time": "2023-11-21T21:48:15.629266825Z",
     "start_time": "2023-11-21T21:48:15.620148955Z"
    }
   },
   "id": "608ff3e2a524e660"
  },
  {
   "cell_type": "code",
   "execution_count": 5,
   "outputs": [],
   "source": [
    "from src.genetic.arbitrage import Individual\n",
    "\n",
    "def decode_individual(individual: Individual, population: Population, individual_label, report_header, path, teams_dict: dict, verbose=True):\n",
    "    profit = individual.fitness[0]\n",
    "    number_of_surebets_chosen = sum([i[0] for i in individual.chromosome])\n",
    "    surebets_selected = []\n",
    "    surebets_selected_summary = []\n",
    "        \n",
    "    for gene, arbitrage in zip(individual.chromosome, individual.arbitrages):\n",
    "        if gene[0] == 1:\n",
    "            surebets_selected.append((f'Partida: {teams_dict.get(arbitrage.game_id)}', f'Casa 1: {arbitrage.bookmaker_key_OVER[:3]}', f'Casa 2: {arbitrage.bookmaker_key_UNDER[:3]}', f'Valor apostado R$ {round(gene[1] * population.budget, 2)}', f'Lucro R$ {((gene[1]*population.budget)*(arbitrage.profit/100)):,.2f}', f'{arbitrage.profit:,.2f}%'))\n",
    "    \n",
    "    if verbose:\n",
    "        print(individual_label)\n",
    "        print(f'Número de surebets escolhidas: {number_of_surebets_chosen}')\n",
    "        print('Surebets selecionadas:')\n",
    "        for i in surebets_selected:\n",
    "            print(i)\n",
    "    \n",
    "        print(f'Lucro total: R$ {profit:,.2f}')\n",
    "        print('-------------------------------------------------------------------------------------------------------------------------------------------------------')\n",
    "    \n",
    "    with open(path, 'a') as file:\n",
    "        if report_header is not None:\n",
    "            file.write(report_header)\n",
    "\n",
    "        file.write(f'{individual_label}\\n')\n",
    "        file.write(f'Número de surebets escolhidas: {number_of_surebets_chosen}\\n')\n",
    "        file.write('Surebets selecionadas:\\n')\n",
    "        for i in surebets_selected:\n",
    "            file.write(str(i)+'\\n')\n",
    "        file.write(f'Lucro total: R$ {profit:,.2f}\\n')\n",
    "        file.write('-------------------------------------------------------------------------------------------------------------------------------------------------------\\n')\n",
    "        \n",
    "    "
   ],
   "metadata": {
    "collapsed": false,
    "ExecuteTime": {
     "end_time": "2023-11-21T21:48:22.558524568Z",
     "start_time": "2023-11-21T21:48:22.549953590Z"
    }
   },
   "id": "bc50179accb6ef1c"
  },
  {
   "cell_type": "markdown",
   "source": [
    "### Evolução da fronteira de pareto (3 fronteiras)"
   ],
   "metadata": {
    "collapsed": false
   },
   "id": "3a00b44d945d55c4"
  },
  {
   "cell_type": "code",
   "execution_count": 6,
   "outputs": [],
   "source": [
    "def paretos_frontier_evolution_plot(population: Population, export: ExportadorDeGraficos):\n",
    "    plt.figure()\n",
    "    plt.title('Evolução da Fronteira de Pareto')\n",
    "    plt.xlabel('Lucro')\n",
    "    plt.ylabel('Distribuição de surebets')\n",
    "    colors = ['#7634BB', '#2BF063', '#9DC3E6']\n",
    "    path = export.data_hora_atual + '/' + 'pareto_evolution.png'\n",
    "    evolution_points = len(population.evolution_front)\n",
    "    aux = population.evolution_front[0], population.evolution_front[evolution_points//2], population.evolution_front[-1]\n",
    "\n",
    "    aux = [(h, sorted(f, key=lambda x :x[1])) for h, f in aux]\n",
    "    count = 0\n",
    "    for hypervolume, front, in aux:\n",
    "        x = [i[0] for i in front]\n",
    "        y = [i[1] for i in front]\n",
    "        plt.plot(x, y, marker='o', label=f'Hv = {hypervolume:,.4f}')\n",
    "        plt.scatter(x, y, color=colors[count])\n",
    "        count += 1\n",
    "    plt.legend()\n",
    "    plt.savefig(path)\n",
    "    plt.close()\n",
    "\n",
    "def export_pareto_frontier_evolution(population: Population, export: ExportadorDeGraficos):\n",
    "    evolution_frontier_x = list()\n",
    "    evolution_frontier_y = list()\n",
    "    generation_plot = [0, population.n_generations - 1, population.best_frontier-1]\n",
    "    for generation, front in population.pareto_history_front_normalized:\n",
    "        x = [i[0] for i in front]\n",
    "        y = [i[1] for i in front]\n",
    "        if generation in generation_plot:\n",
    "            export.plot(x, y, generation+1)\n",
    "            evolution_frontier_x.append(x)\n",
    "            evolution_frontier_y.append(y)\n",
    "    paretos_frontier_evolution_plot(population, export)\n",
    "\n"
   ],
   "metadata": {
    "collapsed": false,
    "ExecuteTime": {
     "end_time": "2023-11-21T21:48:26.285715365Z",
     "start_time": "2023-11-21T21:48:26.276034858Z"
    }
   },
   "id": "906b4a008edb8975"
  },
  {
   "cell_type": "markdown",
   "source": [
    "### Hypervolume por gerações"
   ],
   "metadata": {
    "collapsed": false
   },
   "id": "af1bbaf2c00f800a"
  },
  {
   "cell_type": "code",
   "execution_count": 7,
   "outputs": [],
   "source": [
    "def hypervolume_per_generation(population: Population, export: ExportadorDeGraficos):    \n",
    "    export.hypervolume_plot(population)"
   ],
   "metadata": {
    "collapsed": false,
    "ExecuteTime": {
     "end_time": "2023-11-21T21:48:35.658020784Z",
     "start_time": "2023-11-21T21:48:35.606700080Z"
    }
   },
   "id": "5d08586877347db"
  },
  {
   "cell_type": "markdown",
   "source": [
    "### Fronteira de pareto com 3 indivíduos selecionados"
   ],
   "metadata": {
    "collapsed": false
   },
   "id": "27cf83516bf4391a"
  },
  {
   "cell_type": "code",
   "execution_count": 8,
   "outputs": [],
   "source": [
    "def pick_up_individuals(front):   \n",
    "    front_fitness = list({tuple(i.fitness) for i in front})  # Remove os itens repetidos\n",
    "    OPTIMIZE_PROFIT = -1\n",
    "    OPTIMIZE_MIDDLE = ((len(front_fitness) // 2) - 1)\n",
    "    OPTIMIZE_DISPERSATION = 0\n",
    "    \n",
    "    front_sorted = sorted(front, key=lambda x: x.fitness[0])\n",
    "    front_fitness = sorted(front_fitness, key=lambda x: x[0])\n",
    "    \n",
    "    aux_individuals_selected = front_fitness[OPTIMIZE_PROFIT], front_fitness[OPTIMIZE_MIDDLE], front_fitness[OPTIMIZE_DISPERSATION]  # Seleciona os 3 indivíduos (Aqui só tem os fitness)\n",
    "    selected = []\n",
    "    \n",
    "    # Método para descobrir qual a é o indivíduo(dentro da fronteira de pareto que possui vários objetos) que possui o fitness escolhido anteriormente\n",
    "    for i in aux_individuals_selected:\n",
    "        for individual in front_sorted:\n",
    "            if list(i) == individual.fitness:\n",
    "                selected.append(individual)\n",
    "                break\n",
    "\n",
    "    return front_sorted, selected\n",
    "\n",
    "\n",
    "def normalize(front, high_fitness_evaluated):\n",
    "    max_profit = high_fitness_evaluated[0]\n",
    "    max_dispersation = high_fitness_evaluated[1]\n",
    "    for i in front:\n",
    "        profit_normalized = i.fitness[0] / max_profit\n",
    "        dispersation_normalized = i.fitness[1] / max_dispersation\n",
    "        i.fitness_normalized = [profit_normalized, dispersation_normalized]\n",
    "        \n",
    "\n",
    "def paretos_frontier_plot(front, selected_individuals, path):\n",
    "    plt.figure()\n",
    "    plt.xlim(0, 1.05)\n",
    "    plt.ylim(0, 1.05)\n",
    "    plt.title(f'Fronteira de pareto')\n",
    "    plt.xlabel('Lucro')\n",
    "    plt.ylabel('Distribuição de surebets')\n",
    "    plt.scatter([i.fitness_normalized[0] for i in front], [i.fitness_normalized[1] for i in front])\n",
    "    plt.scatter([i.fitness_normalized[0] for i in selected_individuals], [i.fitness_normalized[1] for i in selected_individuals], color='#2BF063')\n",
    "    plt.plot([i.fitness_normalized[0] for i in front], [i.fitness_normalized[1] for i in front], color='red', linewidth=1, linestyle='-')\n",
    "    # plt.show()\n",
    "    plt.savefig(path)\n",
    "    plt.close()\n",
    "\n",
    "\n",
    "def plot_3_individuals_selected_front(population: Population, export: ExportadorDeGraficos):\n",
    "    if population.best_frontier is None:\n",
    "        export.calculate_hypervolume(population)\n",
    "\n",
    "    frontier = population.pareto_history_front[population.best_frontier][1]\n",
    "    \n",
    "    front_sorted, individuals_selected = pick_up_individuals(frontier)\n",
    "    \n",
    "    normalize(front_sorted, population.high_fitness_evaluated)\n",
    "    normalize(individuals_selected, population.high_fitness_evaluated)\n",
    "    \n",
    "    path = export.data_hora_atual + '/3_individuals_selected.png'\n",
    "    paretos_frontier_plot(front_sorted, individuals_selected, path)\n",
    "\n",
    "    return individuals_selected"
   ],
   "metadata": {
    "collapsed": false,
    "ExecuteTime": {
     "end_time": "2023-11-21T21:48:38.573332124Z",
     "start_time": "2023-11-21T21:48:38.559810792Z"
    }
   },
   "id": "699c125d33ed707c"
  },
  {
   "cell_type": "markdown",
   "source": [
    "### Salva objeto em binário com pickle"
   ],
   "metadata": {
    "collapsed": false
   },
   "id": "ee11765a2b76e711"
  },
  {
   "cell_type": "code",
   "execution_count": 9,
   "outputs": [],
   "source": [
    "def export_pickle(population: Population, export: ExportadorDeGraficos):\n",
    "    PickleSerializer.save(population, f'{export.data_hora_atual}/pickle.pkl')"
   ],
   "metadata": {
    "collapsed": false,
    "ExecuteTime": {
     "end_time": "2023-11-21T21:48:44.191854638Z",
     "start_time": "2023-11-21T21:48:44.179894479Z"
    }
   },
   "id": "361aec408fef449b"
  },
  {
   "cell_type": "markdown",
   "source": [
    "### Exporta dados (hypervolume, fronteiras de pareto e binário) "
   ],
   "metadata": {
    "collapsed": false
   },
   "id": "8b289097f7245488"
  },
  {
   "cell_type": "code",
   "execution_count": 10,
   "outputs": [],
   "source": [
    "def run_scenario(start_date = '2023-09-02 14:00:00', end_date = '2023-09-02 14:05:00', verbose=True, count=0):\n",
    "    export = ExportadorDeGraficos()\n",
    "    \n",
    "    arbitrages = repository.find_all_unique_between(start_date, end_date)\n",
    "    population = Population(n_generations=n_generations, n_individuals=n_individuals, mutation_rate=mutation_rate, crossover_rate=crossover_rate, \n",
    "                            budget=budget, crossover_strategy=crossover, arbitrages=arbitrages)\n",
    "    \n",
    "    \n",
    "    # Salvando binário de population\n",
    "    export_pickle(population, export)\n",
    "    \n",
    "    # Gerando hypervolume por geração\n",
    "    hypervolume_per_generation(population, export)\n",
    "    \n",
    "    # Gerando fronteira de pareto com 3 indivíduos selecionados (Melhor lucro, melhor distribuição e intermediário)\n",
    "    individuals_picked_up = plot_3_individuals_selected_front(population, export)\n",
    "    \n",
    "    # Gerando evolução da fronteira de pareto\n",
    "    export_pareto_frontier_evolution(population, export)\n",
    "    \n",
    "    # Pegando os nomes dos times\n",
    "    teams_dict = get_teams([i.game_id for i in arbitrages])\n",
    "    \n",
    "         \n",
    "    labels = ['Otimização do Lucro', 'Otimização do lucro e quantidade de surebets', 'Otimização da quantidade de surebets']\n",
    "    folder = export.data_hora_atual\n",
    "    start = datetime.strptime(start_date, '%Y-%m-%d %H:%M:%S').strftime('%H:%M')\n",
    "    end = datetime.strptime(end_date, '%Y-%m-%d %H:%M:%S').strftime('%H:%M')\n",
    "    date_event = datetime.strptime(start_date, '%Y-%m-%d %H:%M:%S').strftime('%d/%m/%Y')\n",
    "    path = f\"{folder}/report_{start}_{end}.txt\"\n",
    "\n",
    "    report_header = f\"\"\"************************************************************* RELATÓRIO DO EXPERIMENTO *************************************************************\n",
    "\n",
    "[Data]: {date_event}\n",
    "[Intervalo das surebets]: {start} to {end}\n",
    "[Geração da Fronteira de Pareto]: {population.best_frontier + 1}º geração\n",
    "[Banca]: R$ {population.budget:,.2f}\n",
    "\n",
    "\"\"\"\n",
    "    for label, individual in zip(labels, individuals_picked_up):\n",
    "        decode_individual(individual, population, label, report_header, path, teams_dict, verbose)\n",
    "        report_header = None\n"
   ],
   "metadata": {
    "collapsed": false,
    "ExecuteTime": {
     "end_time": "2023-11-21T21:48:47.025315989Z",
     "start_time": "2023-11-21T21:48:47.008772351Z"
    }
   },
   "id": "57698feae11cb122"
  },
  {
   "cell_type": "markdown",
   "source": [
    "### variação do lucro dentro de intervalos"
   ],
   "metadata": {
    "collapsed": false
   },
   "id": "ccc2caa1f5fa637d"
  },
  {
   "cell_type": "code",
   "execution_count": 36,
   "outputs": [],
   "source": [
    "def plot_interval_profit(x, y, ylim, title, export: ExportadorDeGraficos, export_name = ''):\n",
    "    plt.figure()\n",
    "    plt.title(title)\n",
    "    plt.ylim(0, math.ceil(ylim/5)*5)\n",
    "    plt.xlabel('Intervalo de tempo')\n",
    "    plt.ylabel('Lucro')\n",
    "    plt.xticks(rotation=90)\n",
    "    plt.scatter(x, y)\n",
    "    plt.plot(x, y, linewidth=1, linestyle='-')\n",
    "    plt.savefig(export.data_hora_atual + '/' + export_name, bbox_inches='tight')\n",
    "    plt.close()\n",
    "    \n",
    "    \n",
    "def plot_interval_profit_intersection(x, y, labels, ylim, title, export: ExportadorDeGraficos, export_name = ''):\n",
    "    plt.figure()\n",
    "    plt.title(title)\n",
    "    plt.ylim(0, math.ceil(ylim/5)*5)\n",
    "    plt.xlabel('Intervalo de tempo')\n",
    "    plt.ylabel('Lucro')\n",
    "    plt.xticks(rotation=90)\n",
    "\n",
    "    markers = ['o', 's', 'x']\n",
    "\n",
    "    for count, (y_data, label, marker) in enumerate(zip(y, labels, markers)):\n",
    "        plt.scatter(x, y_data, marker=marker, label=label)\n",
    "        plt.plot(x, y_data, linewidth=1, linestyle='-')\n",
    "    \n",
    "    plt.legend()\n",
    "    plt.savefig(export.data_hora_atual + '/' + export_name, bbox_inches='tight')\n",
    "    plt.close()\n",
    "    \n",
    "def interval_profit(start_date='2023-09-02 14:00:00', end_date='2023-09-02 16:00:00'):\n",
    "    export = ExportadorDeGraficos()\n",
    "    \n",
    "    intervals = gera_intervalos(start_date, end_date)\n",
    "    x_values = []\n",
    "    y_values = [[0], [0], [0]]\n",
    "\n",
    "    PROFIT = 0\n",
    "    DISPERSATION = 1\n",
    "    PROFIT_DISPERSATION = 2\n",
    "    \n",
    "    for i in range(len(intervals)-1):\n",
    "        start = intervals[i] \n",
    "        end = intervals[i+1]\n",
    "        \n",
    "        arbitrages = repository.find_all_unique_between(start, end)\n",
    "        if len(arbitrages) > 1:\n",
    "            population = Population(n_generations=n_generations, n_individuals=n_individuals, mutation_rate=mutation_rate, crossover_rate=crossover_rate, \n",
    "                                    budget=budget, crossover_strategy=crossover, arbitrages=arbitrages)\n",
    "        \n",
    "            if population.best_frontier is None:\n",
    "                export.calculate_hypervolume(population)\n",
    "            \n",
    "            best_front: List[Individual] = population.pareto_history_front[population.best_frontier][1]\n",
    "            list_sorted = sorted(best_front, key=lambda x: x.fitness[0])\n",
    "            \n",
    "            max_profit = list_sorted[-1].fitness[0]\n",
    "            max_dispersation = list_sorted[0].fitness[0]\n",
    "            profit_dispersation = list_sorted[(len(list_sorted) // 2) - 1].fitness[0]\n",
    "            \n",
    "            values = [max_profit, max_dispersation, profit_dispersation]\n",
    "        else:\n",
    "            values = [0, 0, 0]\n",
    "            \n",
    "        x_values.append(f'{datetime.strptime(start, \"%Y-%m-%d %H:%M:%S\").strftime(\"%H:%M\")} - {datetime.strptime(end, \"%Y-%m-%d %H:%M:%S\").strftime(\"%H:%M\")}')\n",
    "\n",
    "        y_values[PROFIT].append(values[PROFIT])  # Guardando lucro\n",
    "        y_values[DISPERSATION].append(values[DISPERSATION])  # Guardando lucro\n",
    "        y_values[PROFIT_DISPERSATION].append(values[PROFIT_DISPERSATION])  # Guardando lucro\n",
    "    \n",
    "    max_value = max(y_values[PROFIT][1:])\n",
    "\n",
    "    plot_interval_profit(x_values, y_values[PROFIT][1:], max_value,f'Variação do lucro: Otimização do lucro', export, 'profit_variation')\n",
    "    plot_interval_profit(x_values, y_values[DISPERSATION][1:], max_value,f'Variação do lucro: Distribuição eficiente', export, 'profit_variation_distribution')\n",
    "    plot_interval_profit(x_values, y_values[PROFIT_DISPERSATION][1:], max_value,f'Variação do lucro: Equilíbrio entre os dois objetivos', export, 'profit_variation_equilibrium')\n",
    "    \n",
    "    labels = ['Otimização do Lucro', 'Distribuição Eficiente', 'Equilíbrio entre os objetivos']\n",
    "    \n",
    "    plot_interval_profit_intersection(x_values, [y_values[PROFIT][1:], y_values[DISPERSATION][1:], y_values[PROFIT_DISPERSATION][1:]], labels, max_value, 'Variação do lucro para os 3 objetivos', export, 'profit_variation_3_objective')\n",
    "    \n",
    "    data_to_save = {'x_value': x_values, 'y_value': y_values}\n",
    "    PickleSerializer.save(data_to_save, f'{export.data_hora_atual}/profit_variation_interval.pkl')\n"
   ],
   "metadata": {
    "collapsed": false,
    "ExecuteTime": {
     "end_time": "2023-11-22T00:33:22.001021086Z",
     "start_time": "2023-11-22T00:33:21.947398647Z"
    }
   },
   "id": "27b54ec59620df17"
  },
  {
   "cell_type": "markdown",
   "source": [
    "### Gera gráfico lucro acumulado"
   ],
   "metadata": {
    "collapsed": false
   },
   "id": "91d3ed6b9306f8c9"
  },
  {
   "cell_type": "code",
   "execution_count": 34,
   "outputs": [],
   "source": [
    "def accumulated_profit(start_date='2023-09-02 14:00:00', end_date='2023-09-02 15:00:00'):\n",
    "    export = ExportadorDeGraficos()\n",
    "    \n",
    "    intervals = gera_intervalos(start_date, end_date)\n",
    "    x_values = []\n",
    "    y_values = [[0], [0], [0]]\n",
    "\n",
    "    PROFIT = 0\n",
    "    DISPERSATION = 1\n",
    "    PROFIT_DISPERSATION = 2\n",
    "\n",
    "    for i in range(len(intervals)-1):\n",
    "        start = intervals[i] \n",
    "        end = intervals[i+1]\n",
    "        arbitrages = repository.find_all_unique_between(start, end)\n",
    "\n",
    "        if len(arbitrages) > 1:\n",
    "            population = Population(n_generations=n_generations, n_individuals=n_individuals, mutation_rate=mutation_rate, crossover_rate=crossover_rate, \n",
    "                                    budget=budget, crossover_strategy=crossover, arbitrages=arbitrages)\n",
    "    \n",
    "            if population.best_frontier is None:\n",
    "                export.calculate_hypervolume(population)\n",
    "            \n",
    "            best_front: List[Individual] = population.pareto_history_front[population.best_frontier][1]\n",
    "            list_sorted = sorted(best_front, key=lambda x: x.fitness[0])\n",
    "            \n",
    "            max_profit = list_sorted[-1].fitness[0]\n",
    "            max_dispersation = list_sorted[0].fitness[0]\n",
    "            profit_dispersation = list_sorted[(len(list_sorted) // 2) - 1].fitness[0]\n",
    "            \n",
    "            values = [max_profit, max_dispersation, profit_dispersation]\n",
    "        else:\n",
    "            values = [0, 0, 0]\n",
    "            \n",
    "        x_values.append(f'{datetime.strptime(start, \"%Y-%m-%d %H:%M:%S\").strftime(\"%H:%M\")} - {datetime.strptime(end, \"%Y-%m-%d %H:%M:%S\").strftime(\"%H:%M\")}')\n",
    "\n",
    "        y_values[PROFIT].append(y_values[PROFIT][-1] + values[PROFIT])  # acumulando o último valor\n",
    "        y_values[DISPERSATION].append(y_values[DISPERSATION][-1] + values[DISPERSATION])  # acumulando o último valor\n",
    "        y_values[PROFIT_DISPERSATION].append(y_values[PROFIT_DISPERSATION][-1] + values[PROFIT_DISPERSATION])  # acumulando o último valor\n",
    "        \n",
    "    max_value = max(y_values[PROFIT][1:])\n",
    "    plot_interval_profit(x_values, y_values[PROFIT][1:], max_value, 'Lucro acumulado: Otimização do lucro', export, 'accumulated_profit')\n",
    "    plot_interval_profit(x_values, y_values[DISPERSATION][1:], max_value, 'Lucro acumulado: Distribuição eficiente', export, 'distribuition_accumulated_profit')\n",
    "    plot_interval_profit(x_values, y_values[PROFIT_DISPERSATION][1:], max_value, 'Lucro acumulado: Equilíbrio entre os objetivos', export, 'equilibrium_accumulated_profit')\n",
    "    labels = ['Otimização do Lucro', 'Distribuição Eficiente', 'Equilíbrio entre os objetivos']\n",
    "    \n",
    "    plot_interval_profit_intersection(x_values, [y_values[PROFIT][1:], y_values[DISPERSATION][1:], y_values[PROFIT_DISPERSATION][1:]], labels, max_value, 'Lucro acumulado para os 3 objetivos', export, 'accumulated_profit_3_objective')\n",
    "    \n",
    "    data_to_save = {'x_value': x_values, 'y_value': y_values}\n",
    "    PickleSerializer.save(data_to_save, f'{export.data_hora_atual}/accumulated_profit.pkl')"
   ],
   "metadata": {
    "collapsed": false,
    "ExecuteTime": {
     "end_time": "2023-11-21T23:36:35.626926944Z",
     "start_time": "2023-11-21T23:36:35.578796426Z"
    }
   },
   "id": "f544e3ae95ce4dc"
  },
  {
   "cell_type": "markdown",
   "source": [
    "### Lucro Acumulado para o cenário 02/09/2023 14:00 às 15:00"
   ],
   "metadata": {
    "collapsed": false
   },
   "id": "b7a0eae3d4fcd05d"
  },
  {
   "cell_type": "code",
   "execution_count": 27,
   "outputs": [],
   "source": [
    "accumulated_profit(start_date='2023-09-02 14:00:00', end_date='2023-09-02 15:00:00')"
   ],
   "metadata": {
    "collapsed": false,
    "ExecuteTime": {
     "end_time": "2023-11-21T16:16:09.886138282Z",
     "start_time": "2023-11-21T16:16:05.096372340Z"
    }
   },
   "id": "4206e7179cac65d7"
  },
  {
   "cell_type": "markdown",
   "source": [
    "### Experimento para o cenário 24/09/2023 15:00 às 16:00"
   ],
   "metadata": {
    "collapsed": false
   },
   "id": "a29edfd0dfa22705"
  },
  {
   "cell_type": "code",
   "execution_count": 23,
   "outputs": [],
   "source": [
    "# run_scenario(start_date='2023-09-24 15:15:00', end_date='2023-09-24 15:20:00', verbose=False)\n",
    "# accumulated_profit(start_date='2023-09-24 15:00:00', end_date='2023-09-24 16:00:00')\n",
    "# interval_profit(start_date='2023-09-24 15:00:00', end_date='2023-09-24 16:00:00')"
   ],
   "metadata": {
    "collapsed": false,
    "ExecuteTime": {
     "end_time": "2023-11-21T22:11:10.323550871Z",
     "start_time": "2023-11-21T22:11:06.198436080Z"
    }
   },
   "id": "d838c16b37d535a5"
  },
  {
   "cell_type": "markdown",
   "source": [
    "### Variação do lucro para o cenário 02/09/2023 14:00 às 15:00"
   ],
   "metadata": {
    "collapsed": false
   },
   "id": "90df8e70e974c718"
  },
  {
   "cell_type": "code",
   "execution_count": null,
   "outputs": [],
   "source": [
    "interval_profit(start_date='2023-09-02 14:00:00', end_date='2023-09-02 15:00:00')"
   ],
   "metadata": {
    "collapsed": false
   },
   "id": "27fcb7a3895d1348"
  },
  {
   "cell_type": "markdown",
   "source": [
    "<h3> Cenários mês de setembro </h3>\n",
    "<img src=\"images/surebets_setembro.png\" width=\"75%\">\n",
    "<br> <br>\n",
    "<img src=\"images/surebets_02_setembro.png\" width=\"75%\">"
   ],
   "metadata": {
    "collapsed": false
   },
   "id": "612d83120de61a94"
  },
  {
   "cell_type": "markdown",
   "source": [
    "### Cenário 02/09/2023 14:20 às 14:25"
   ],
   "metadata": {
    "collapsed": false
   },
   "id": "8c9dbf1612b74337"
  },
  {
   "cell_type": "code",
   "execution_count": null,
   "outputs": [],
   "source": [
    "# run_scenario(start_date='2023-09-02 14:20:00', end_date='2023-09-02 14:25:00', verbose=False)"
   ],
   "metadata": {
    "collapsed": false
   },
   "id": "df50f081edea7dcf"
  },
  {
   "cell_type": "markdown",
   "source": [
    "### Código para gerar lista de surebets de um intervalo"
   ],
   "metadata": {
    "collapsed": false
   },
   "id": "6bad4d0efb91f30e"
  },
  {
   "cell_type": "code",
   "execution_count": null,
   "outputs": [],
   "source": [
    "import pandas as pd\n",
    "start_date='2023-09-02 14:20:00'\n",
    "end_date='2023-09-02 14:25:00'\n",
    "arbitrages = repository.find_all_unique_between(start_date, end_date)\n",
    "\n",
    "teams = get_teams([i.game_id for i in arbitrages])\n",
    "\n",
    "data = {\n",
    "    # 'Time': [teams.get(surebet.game_id) for surebet in arbitrages],\n",
    "    'Casa de aposta 1': [surebet.bookmaker_key_OVER for surebet in arbitrages],\n",
    "    'Casa de aposta 2': [surebet.bookmaker_key_UNDER for surebet in arbitrages],\n",
    "    'odd_OVER': [surebet.odd_OVER for surebet in arbitrages],\n",
    "    'odd_UNDER': [surebet.odd_UNDER for surebet in arbitrages],\n",
    "    'Lucro': [surebet.profit for surebet in arbitrages]\n",
    "}\n",
    "\n",
    "df = pd.DataFrame(data)\n",
    "\n",
    "\n",
    "# Exibindo o DataFrame\n",
    "print(df.to_string())\n"
   ],
   "metadata": {
    "collapsed": false
   },
   "id": "4cf4f63ad3cb490f"
  },
  {
   "cell_type": "markdown",
   "source": [
    "### Código para gerar gráfico das surebets (incluindo as persistentes ao longo do tempo)"
   ],
   "metadata": {
    "collapsed": false
   },
   "id": "f8ee2cf7f711ddb9"
  },
  {
   "cell_type": "code",
   "execution_count": 28,
   "outputs": [
    {
     "name": "stdout",
     "output_type": "stream",
     "text": [
      "Monday        7\n",
      "Tuesday      15\n",
      "Wednesday    13\n",
      "Thursday      2\n",
      "Friday       19\n",
      "Saturday     62\n",
      "Sunday       62\n",
      "Name: Dia da semana, dtype: int64\n"
     ]
    },
    {
     "data": {
      "text/plain": "<Figure size 640x480 with 0 Axes>"
     },
     "metadata": {},
     "output_type": "display_data"
    },
    {
     "data": {
      "text/plain": "<Figure size 1200x600 with 1 Axes>",
      "image/png": "[encoded data removed]"
     },
     "metadata": {},
     "output_type": "display_data"
    }
   ],
   "source": [
    "def plot_dataset(x, y, ylim, title, xlabel, export: ExportadorDeGraficos, export_name = ''):\n",
    "    plt.figure()\n",
    "    largura_figura = 12  # Ajuste a largura\n",
    "    altura_figura = 6    # Ajuste a altura\n",
    "    plt.figure(figsize=(largura_figura, altura_figura))\n",
    "    plt.title(title)\n",
    "    plt.ylim(0, ylim + 100)\n",
    "    plt.xlabel(xlabel)\n",
    "    plt.ylabel('Quantidade de surebets')\n",
    "    plt.bar(x, y)\n",
    "    \n",
    "\n",
    "    \n",
    "    for i, valor in enumerate(y):\n",
    "        plt.text(i, valor + 5, str(valor), ha='center')\n",
    "    \n",
    "    # plt.show()\n",
    "    plt.savefig(export.data_hora_atual + '/' + export_name)\n",
    "    plt.close()\n",
    "\n",
    "dias_semana = {\n",
    "    'Monday': 'Segunda-feira',\n",
    "    'Tuesday': 'Terça-feira',\n",
    "    'Wednesday': 'Quarta-feira',\n",
    "    'Thursday': 'Quinta-feira',\n",
    "    'Friday': 'Sexta-feira',\n",
    "    'Saturday': 'Sábado',\n",
    "    'Sunday': 'Domingo'\n",
    "}\n",
    "\n",
    "find_all = repository.find_all_between(start_date='2023-01-01 00:00:00', end_date='2023-08-31 23:59:59')\n",
    "# find_all = repository.find_all_between(start_date='2023-09-01 00:00:00', end_date='2023-10-31 23:59:59')\n",
    "\n",
    "teams = get_teams([i.game_id for i in find_all])\n",
    "\n",
    "data = {\n",
    "    'Time': [teams.get(surebet.game_id) for surebet in find_all],\n",
    "    'Casa de aposta 1': [surebet.bookmaker_key_OVER for surebet in find_all],\n",
    "    'Casa de aposta 2': [surebet.bookmaker_key_UNDER for surebet in find_all],\n",
    "    'odd_OVER': [surebet.odd_OVER for surebet in find_all],\n",
    "    'odd_UNDER': [surebet.odd_UNDER for surebet in find_all],\n",
    "    'Data': [surebet.last_update_OVER for surebet in find_all],\n",
    "    'Lucro': [surebet.profit for surebet in find_all]\n",
    "}\n",
    "\n",
    "df = pd.DataFrame.from_dict(data)\n",
    "df['Dia da semana'] = df['Data'].dt.day_name()\n",
    "\n",
    "ordem_personalizada = {'Monday': 1, 'Tuesday': 2, 'Wednesday': 3, 'Thursday': 4, 'Friday': 5, 'Saturday': 6, 'Sunday': 7}\n",
    "\n",
    "x_days = []\n",
    "y_count = []\n",
    "    \n",
    "contagem_ordenada = df['Dia da semana'].value_counts().sort_index(key=lambda x: x.map(ordem_personalizada))\n",
    "\n",
    "for day, count in contagem_ordenada.items():\n",
    "    x_days.append(dias_semana.get(day))\n",
    "    y_count.append(count)\n",
    "\n",
    "plot_dataset(x_days, y_count, max(y_count), 'Surebets divididas por dia da semana (Setembro e Outubro)', 'Dias da semana', ExportadorDeGraficos())"
   ],
   "metadata": {
    "collapsed": false,
    "ExecuteTime": {
     "end_time": "2023-11-21T22:38:34.997568875Z",
     "start_time": "2023-11-21T22:38:34.671509488Z"
    }
   },
   "id": "dad3194bd4709df7"
  },
  {
   "cell_type": "code",
   "execution_count": 27,
   "outputs": [
    {
     "name": "stdout",
     "output_type": "stream",
     "text": [
      "January         0\n",
      "February        0\n",
      "March           0\n",
      "April          17\n",
      "May            51\n",
      "June            5\n",
      "July           13\n",
      "August         94\n",
      "September    1500\n",
      "October       429\n",
      "November        0\n",
      "December        0\n",
      "Name: mes, dtype: int64\n"
     ]
    },
    {
     "data": {
      "text/plain": "<Figure size 640x480 with 0 Axes>"
     },
     "metadata": {},
     "output_type": "display_data"
    },
    {
     "data": {
      "text/plain": "<Figure size 1400x600 with 1 Axes>",
      "image/png": "[encoded data removed]"
     },
     "metadata": {},
     "output_type": "display_data"
    }
   ],
   "source": [
    "\n",
    "import calendar\n",
    "\n",
    "meses = {\n",
    "    'January': 'Janeiro',\n",
    "    'February': 'Fevereiro',\n",
    "    'March': 'Março',\n",
    "    'April': 'Abril',\n",
    "    'May': 'Maio',\n",
    "    'June': 'Junho',\n",
    "    'July': 'Julho',\n",
    "    'August': 'Agosto',\n",
    "    'September': 'Setembro',\n",
    "    'October': 'Outubro',\n",
    "    'November': 'Novembro',\n",
    "    'December': 'Dezembro'\n",
    "}\n",
    "\n",
    "find_all = repository.find_all()\n",
    "\n",
    "data = {\n",
    "    'Data': [surebet.last_update_OVER for surebet in find_all],\n",
    "}\n",
    "\n",
    "df = pd.DataFrame.from_dict(data)\n",
    "df['mes'] = df['Data'].dt.month_name()\n",
    "\n",
    "x = []\n",
    "y = []\n",
    "    \n",
    "quantidade_surebet = df['mes'].value_counts().reindex(list(calendar.month_name[1:]), fill_value=0)\n",
    "for month, count in quantidade_surebet.items():\n",
    "    x.append(meses.get(month))\n",
    "    y.append(count)\n",
    "\n",
    "plot_dataset(x, y, max(y), 'Surebets divididas por meses do ano', 'Meses do ano', ExportadorDeGraficos())"
   ],
   "metadata": {
    "collapsed": false,
    "ExecuteTime": {
     "end_time": "2023-11-21T10:42:46.486035261Z",
     "start_time": "2023-11-21T10:42:46.150389426Z"
    }
   },
   "id": "8fb6148dbea5ac98"
  },
  {
   "cell_type": "code",
   "execution_count": 30,
   "outputs": [
    {
     "name": "stdout",
     "output_type": "stream",
     "text": [
      "BETONLINEAG      54\n",
      "MATCHBOOK      1337\n",
      "NORDICBET       186\n",
      "ONEXBET         576\n",
      "PINNACLE        963\n",
      "UNIBET_EU      1078\n",
      "WILLIAMHILL      24\n",
      "dtype: int64\n"
     ]
    },
    {
     "data": {
      "text/plain": "<Figure size 640x480 with 0 Axes>"
     },
     "metadata": {},
     "output_type": "display_data"
    },
    {
     "data": {
      "text/plain": "<Figure size 1200x600 with 1 Axes>",
      "image/png": "[encoded data removed]"
     },
     "metadata": {},
     "output_type": "display_data"
    }
   ],
   "source": [
    "def plot_dataset(x, y, ylim, title, export: ExportadorDeGraficos, export_name = ''):\n",
    "    plt.figure()\n",
    "    largura_figura = 12  # Ajuste a largura\n",
    "    altura_figura = 6    # Ajuste a altura\n",
    "    plt.figure(figsize=(largura_figura, altura_figura))\n",
    "    plt.title(title)\n",
    "    plt.ylim(0, ylim + 100)\n",
    "    plt.xlabel('Casa de aposta')\n",
    "    plt.ylabel('Quantidade de surebets')\n",
    "    plt.bar(x, y)\n",
    "\n",
    "\n",
    "\n",
    "    for i, valor in enumerate(y):\n",
    "        plt.text(i, valor + 5, str(valor), ha='center')\n",
    "\n",
    "    plt.show()\n",
    "    # plt.savefig(export.data_hora_atual + '/' + export_name)\n",
    "    plt.close()\n",
    "\n",
    "find_all = repository.find_all()\n",
    "\n",
    "data = {\n",
    "    'Casa de aposta 1': [surebet.bookmaker_key_OVER for surebet in find_all],\n",
    "    'Casa de aposta 2': [surebet.bookmaker_key_UNDER for surebet in find_all],\n",
    "    'Data': [surebet.last_update_OVER for surebet in find_all],\n",
    "}\n",
    "\n",
    "df = pd.DataFrame.from_dict(data)\n",
    "total = df['Casa de aposta 1'].value_counts() + df['Casa de aposta 2'].value_counts()\n",
    "\n",
    "x = []\n",
    "y = []\n",
    "     \n",
    "print(total)\n",
    "for book, count in total.items():\n",
    "    x.append(book)\n",
    "    y.append(count)\n",
    "\n",
    "plot_dataset(x, y, max(y), 'Quantidade de surebets encontradas por casa de aposta', ExportadorDeGraficos())\n",
    "\n"
   ],
   "metadata": {
    "collapsed": false,
    "ExecuteTime": {
     "end_time": "2023-11-21T10:48:58.786387732Z",
     "start_time": "2023-11-21T10:48:58.501121198Z"
    }
   },
   "id": "249170e9d40cc078"
  },
  {
   "cell_type": "markdown",
   "source": [
    "### Cenário 02/09/2023 14:00 às 15:00"
   ],
   "metadata": {
    "collapsed": false
   },
   "id": "e6163f29eb05df0d"
  },
  {
   "cell_type": "code",
   "execution_count": 37,
   "outputs": [],
   "source": [
    "# run_scenario(start_date='2023-09-02 14:20:00', end_date='2023-09-02 14:25:00', verbose=False)\n",
    "\n",
    "# accumulated_profit(start_date='2023-09-02 14:00:00', end_date='2023-09-02 15:00:00')\n",
    "interval_profit(start_date='2023-09-02 14:00:00', end_date='2023-09-02 15:00:00')"
   ],
   "metadata": {
    "collapsed": false,
    "ExecuteTime": {
     "end_time": "2023-11-22T00:33:44.616761474Z",
     "start_time": "2023-11-22T00:33:39.234089456Z"
    }
   },
   "id": "224b04940c0f40bb"
  },
  {
   "cell_type": "markdown",
   "source": [
    "### Cenário 24/09/2023 15:00 às 16:00"
   ],
   "metadata": {
    "collapsed": false
   },
   "id": "d0e4b2f223e21eaa"
  },
  {
   "cell_type": "code",
   "execution_count": 40,
   "outputs": [],
   "source": [
    "run_scenario(start_date='2023-09-24 15:15:00', end_date='2023-09-24 15:20:00', verbose=False)\n",
    "# accumulated_profit(start_date='2023-09-24 15:00:00', end_date='2023-09-24 16:00:00')\n",
    "# interval_profit(start_date='2023-09-24 15:00:00', end_date='2023-09-24 16:00:00')"
   ],
   "metadata": {
    "collapsed": false,
    "ExecuteTime": {
     "end_time": "2023-11-22T01:19:17.064046162Z",
     "start_time": "2023-11-22T01:19:15.886037158Z"
    }
   },
   "id": "306d0ed187875b79"
  },
  {
   "cell_type": "markdown",
   "source": [
    "### Cenário 01/10/2023 15:00 às 16:00"
   ],
   "metadata": {
    "collapsed": false
   },
   "id": "dc90a3c5d6a40014"
  },
  {
   "cell_type": "code",
   "execution_count": 39,
   "outputs": [],
   "source": [
    "run_scenario(start_date='2023-10-01 15:45:00', end_date='2023-10-01 15:50:00', verbose=False)\n",
    "# accumulated_profit(start_date='2023-10-01 15:00:00', end_date='2023-10-01 16:00:00')\n",
    "# interval_profit(start_date='2023-10-01 15:00:00', end_date='2023-10-01 16:00:00')"
   ],
   "metadata": {
    "collapsed": false,
    "ExecuteTime": {
     "end_time": "2023-11-22T01:15:16.102405273Z",
     "start_time": "2023-11-22T01:15:14.934076272Z"
    }
   },
   "id": "2cf204a8c72c3bfb"
  },
  {
   "cell_type": "markdown",
   "source": [
    "### Cenário 07/10/2023 14:15 às 14:20"
   ],
   "metadata": {
    "collapsed": false
   },
   "id": "a58abddfbd3e8ec6"
  },
  {
   "cell_type": "code",
   "execution_count": 38,
   "outputs": [],
   "source": [
    "run_scenario(start_date='2023-10-07 14:15:00', end_date='2023-10-07 14:20:00', verbose=False)\n",
    "# accumulated_profit(start_date='2023-10-07 14:00:00', end_date='2023-10-07 15:00:00')\n",
    "# interval_profit(start_date='2023-10-07 14:00:00', end_date='2023-10-07 15:00:00')"
   ],
   "metadata": {
    "collapsed": false,
    "ExecuteTime": {
     "end_time": "2023-11-22T01:06:51.658262246Z",
     "start_time": "2023-11-22T01:06:50.345895655Z"
    }
   },
   "id": "a20b0f69e2d1b619"
  }
 ],
 "metadata": {
  "kernelspec": {
   "display_name": "Python 3",
   "language": "python",
   "name": "python3"
  },
  "language_info": {
   "codemirror_mode": {
    "name": "ipython",
    "version": 2
   },
   "file_extension": ".py",
   "mimetype": "text/x-python",
   "name": "python",
   "nbconvert_exporter": "python",
   "pygments_lexer": "ipython2",
   "version": "2.7.6"
  }
 },
 "nbformat": 4,
 "nbformat_minor": 5
}
