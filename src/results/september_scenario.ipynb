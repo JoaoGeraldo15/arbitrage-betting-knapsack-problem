{
 "cells": [
  {
   "cell_type": "code",
   "execution_count": 1,
   "outputs": [],
   "source": [
    "import matplotlib\n",
    "from src.repository.surebet_repository import SurebetRepository\n",
    "from src.genetic.arbitrage import CrossOverEnum, Population\n",
    "from src.util import ExportadorDeGraficos, PickleSerializer\n",
    "repository = SurebetRepository()"
   ],
   "metadata": {
    "collapsed": false,
    "ExecuteTime": {
     "end_time": "2023-11-11T22:10:38.948360059Z",
     "start_time": "2023-11-11T22:10:38.282136937Z"
    }
   },
   "id": "88b563872d261a5"
  },
  {
   "cell_type": "markdown",
   "source": [
    "<h3> Parâmetros para execução do experimento </h3>"
   ],
   "metadata": {
    "collapsed": false
   },
   "id": "98afaef36fe4d956"
  },
  {
   "cell_type": "code",
   "execution_count": 2,
   "outputs": [],
   "source": [
    "n_generations = 200\n",
    "n_individuals = 20\n",
    "mutation_rate = 0.01\n",
    "crossover_rate = 0.95"
   ],
   "metadata": {
    "collapsed": false,
    "ExecuteTime": {
     "end_time": "2023-11-11T22:10:38.964762957Z",
     "start_time": "2023-11-11T22:10:38.951064024Z"
    }
   },
   "id": "116677808df7a017"
  },
  {
   "cell_type": "code",
   "execution_count": 3,
   "outputs": [],
   "source": [
    "def paretos_frontier_plot(front, selected_individuals, path):\n",
    "    plt = matplotlib.pyplot\n",
    "    plt.figure()\n",
    "    # plt.xlim(0, 1.05)\n",
    "    # plt.ylim(0, 1.05)\n",
    "    plt.title(f'Generation')\n",
    "    plt.xlabel('Profit')\n",
    "    plt.ylabel('Dispersation')\n",
    "    plt.scatter([i.fitness_normalized[0] for i in front], [i.fitness_normalized[1] for i in front])\n",
    "    plt.scatter([i.fitness_normalized[0] for i in selected_individuals], [i.fitness_normalized[1] for i in selected_individuals], color='green')\n",
    "    plt.savefig(path)\n",
    "    plt.close()\n",
    "\n",
    "\n",
    "def pick_up_individuals(front):   \n",
    "    front_fitness = list({tuple(i.fitness) for i in front})  # Remove os itens repetidos\n",
    "    OPTIMIZE_PROFIT = -1\n",
    "    OPTIMIZE_MIDDLE = (len(front_fitness) // 2)\n",
    "    OPTIMIZE_DISPERSATION = 0\n",
    "    \n",
    "    front_sorted = sorted(front, key=lambda x: x.fitness[0])\n",
    "    front_fitness = sorted(front_fitness, key=lambda x: x[0])\n",
    "    \n",
    "    print(front_fitness)\n",
    "    \n",
    "    aux_individuals_selected = front_fitness[OPTIMIZE_PROFIT], front_fitness[OPTIMIZE_MIDDLE], front_fitness[OPTIMIZE_DISPERSATION]  # Seleciona os 3 indivíduos (Aqui só tem os fitness)\n",
    "    print(f'aux_individuals_selected: {aux_individuals_selected}')\n",
    "    selected = []\n",
    "    \n",
    "    # Método para descobrir qual a é o indivíduo(dentro da fronteira de pareto que possui vários objetos) que possui o fitness escolhido anteriormente\n",
    "    for i in aux_individuals_selected:\n",
    "        for individual in front_sorted:\n",
    "            if list(i) == individual.fitness:\n",
    "                selected.append(individual)\n",
    "                break\n",
    "                \n",
    "    print(f'selected: {selected}')\n",
    "    return front_sorted, selected\n",
    "\n",
    "def normalize(front, high_fitness_evaluated):\n",
    "    max_profit = high_fitness_evaluated[0]\n",
    "    max_dispersation = high_fitness_evaluated[1]\n",
    "    for i in front:\n",
    "        profit_normalized = i.fitness[0] / max_profit\n",
    "        dispersation_normalized = i.fitness[1] / max_dispersation\n",
    "        i.fitness_normalized = [profit_normalized, dispersation_normalized]\n",
    "    "
   ],
   "metadata": {
    "collapsed": false,
    "ExecuteTime": {
     "end_time": "2023-11-11T22:10:39.156601999Z",
     "start_time": "2023-11-11T22:10:38.953328034Z"
    }
   },
   "id": "initial_id"
  },
  {
   "cell_type": "code",
   "execution_count": 4,
   "outputs": [],
   "source": [
    "def export_frontier(export, population: Population):\n",
    "    generation_plot = [0, population.n_generations - 1, population.best_frontier]\n",
    "    for generation, front in population.pareto_history_front_normalized:\n",
    "        x = [i[0] for i in front]\n",
    "        y = [i[1] for i in front]\n",
    "        if generation in generation_plot:\n",
    "            export.plot(x, y, generation)\n",
    "\n",
    "def export_solution(population: Population, front_sorted, individuals_selected):\n",
    "    export = ExportadorDeGraficos()\n",
    "    export.hypervolume_plot(population)\n",
    "    PickleSerializer.save(population, f'{export.data_hora_atual}/pickle.pkl')\n",
    "    path = export.data_hora_atual + '/' + export.get_file_name(population.best_frontier, 'png')\n",
    "    export_frontier(export, population)\n",
    "    paretos_frontier_plot(front_sorted, individuals_selected, path)\n",
    "    \n",
    "    \n",
    "def plot_frontier(population: Population):\n",
    "    frontier = population.pareto_history_front[population.best_frontier][1]\n",
    "    front_sorted, individuals_selected = pick_up_individuals(frontier)\n",
    "    \n",
    "    normalize(front_sorted, population.high_fitness_evaluated)\n",
    "    normalize(individuals_selected, population.high_fitness_evaluated)\n",
    "    \n",
    "    export_solution(population, front_sorted, individuals_selected)\n",
    "    \n",
    "    return individuals_selected"
   ],
   "metadata": {
    "collapsed": false,
    "ExecuteTime": {
     "end_time": "2023-11-11T22:10:39.378000180Z",
     "start_time": "2023-11-11T22:10:39.160085586Z"
    }
   },
   "id": "906b4a008edb8975"
  },
  {
   "cell_type": "markdown",
   "source": [
    "<h3> Cenários mês de setembro </h3>\n",
    "<img src=\"images/surebets_setembro.png\" width=\"75%\">\n",
    "<br> <br>\n",
    "<img src=\"images/surebets_02_setembro.png\" width=\"75%\">"
   ],
   "metadata": {
    "collapsed": false
   },
   "id": "612d83120de61a94"
  },
  {
   "cell_type": "markdown",
   "source": [
    "<h3> Cenário 02/09/2023 </h3>"
   ],
   "metadata": {
    "collapsed": false
   },
   "id": "8c9dbf1612b74337"
  },
  {
   "cell_type": "code",
   "execution_count": 5,
   "outputs": [
    {
     "name": "stdout",
     "output_type": "stream",
     "text": [
      "None\n",
      "138\n",
      "[(12.395100000000001, 2.3295940852632238), (13.2867, 1.9868687756988326), (21.5055, 1.5355180332029907), (24.7468, 0.6577047787442195), (28.3019, 0.0)]\n",
      "aux_individuals_selected: ((28.3019, 0.0), (21.5055, 1.5355180332029907), (12.395100000000001, 2.3295940852632238))\n",
      "selected: [<src.genetic.arbitrage.Individual object at 0x7fe435daa590>, <src.genetic.arbitrage.Individual object at 0x7fe434b6b850>, <src.genetic.arbitrage.Individual object at 0x7fe4353d7eb0>]\n",
      "[28.3019, 0.0]: [(1, 1.0), (0, 0.14), (0, 0.41), (0, 0.44), (0, 0.13)]\n",
      "[21.5055, 1.5355180332029907]: [(1, 0.63), (1, 0.13), (1, 0.11), (1, 0.13), (0, 0.13)]\n",
      "[12.395100000000001, 2.3295940852632238]: [(1, 0.19), (1, 0.21), (1, 0.17), (1, 0.21), (1, 0.24)]\n"
     ]
    }
   ],
   "source": [
    "start_date = '2023-09-02 14:00:00'\n",
    "end_date = '2023-09-02 14:05:00'\n",
    "arbitrages = repository.find_all_unique_between(start_date, end_date)\n",
    "population = Population(n_generations=n_generations, n_individuals=n_individuals, mutation_rate=mutation_rate, crossover_rate=crossover_rate, \n",
    "                        budget=1000, crossover_strategy=CrossOverEnum.ONE_POINT_CROSSOVER, arbitrages=arbitrages)\n",
    "\n",
    "individuals_picked_up = plot_frontier(population)\n"
   ],
   "metadata": {
    "collapsed": false,
    "ExecuteTime": {
     "start_time": "2023-11-11T22:10:39.389513876Z"
    }
   },
   "id": "ab3e5f8ea1965c8b"
  },
  {
   "cell_type": "markdown",
   "source": [
    "\n",
    "### Cenário 24/09/2023\n"
   ],
   "metadata": {
    "collapsed": false
   },
   "id": "d0e4b2f223e21eaa"
  }
 ],
 "metadata": {
  "kernelspec": {
   "display_name": "Python 3",
   "language": "python",
   "name": "python3"
  },
  "language_info": {
   "codemirror_mode": {
    "name": "ipython",
    "version": 2
   },
   "file_extension": ".py",
   "mimetype": "text/x-python",
   "name": "python",
   "nbconvert_exporter": "python",
   "pygments_lexer": "ipython2",
   "version": "2.7.6"
  }
 },
 "nbformat": 4,
 "nbformat_minor": 5
}
