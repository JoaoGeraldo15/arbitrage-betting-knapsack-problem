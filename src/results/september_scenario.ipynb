{
 "cells": [
  {
   "cell_type": "code",
   "execution_count": 1,
   "outputs": [],
   "source": [
    "import matplotlib\n",
    "from src.repository.surebet_repository import SurebetRepository\n",
    "from src.repository.game_repository import GameRepository\n",
    "from src.genetic.arbitrage import CrossOverEnum, Population\n",
    "from src.util import ExportadorDeGraficos, PickleSerializer\n",
    "from datetime import datetime\n",
    "game_repository = GameRepository()\n",
    "repository = SurebetRepository()"
   ],
   "metadata": {
    "collapsed": false,
    "ExecuteTime": {
     "end_time": "2023-11-12T18:37:14.209007611Z",
     "start_time": "2023-11-12T18:37:12.863313754Z"
    }
   },
   "id": "88b563872d261a5"
  },
  {
   "cell_type": "markdown",
   "source": [
    "<h3> Parâmetros para execução do experimento </h3>"
   ],
   "metadata": {
    "collapsed": false
   },
   "id": "98afaef36fe4d956"
  },
  {
   "cell_type": "code",
   "execution_count": 10,
   "outputs": [],
   "source": [
    "n_generations = 200\n",
    "n_individuals = 30\n",
    "mutation_rate = 0.05\n",
    "crossover_rate = 0.98\n",
    "crossover=CrossOverEnum.ONE_POINT_CROSSOVER"
   ],
   "metadata": {
    "collapsed": false,
    "ExecuteTime": {
     "end_time": "2023-11-12T18:38:59.332805034Z",
     "start_time": "2023-11-12T18:38:59.145922047Z"
    }
   },
   "id": "116677808df7a017"
  },
  {
   "cell_type": "markdown",
   "source": [
    "<h3>Métodos auxiliares para plot, consulta ao banco e munipulação dos dados</h3>"
   ],
   "metadata": {
    "collapsed": false
   },
   "id": "ef1ad6ce6f11bfb5"
  },
  {
   "cell_type": "code",
   "execution_count": 3,
   "outputs": [],
   "source": [
    "def get_teams(ids):\n",
    "    return game_repository.get_teams(ids)"
   ],
   "metadata": {
    "collapsed": false,
    "ExecuteTime": {
     "end_time": "2023-11-12T18:37:14.344962090Z",
     "start_time": "2023-11-12T18:37:14.213304775Z"
    }
   },
   "id": "608ff3e2a524e660"
  },
  {
   "cell_type": "code",
   "execution_count": 4,
   "outputs": [],
   "source": [
    "def paretos_frontier_plot(front, selected_individuals, path, best_frontier):\n",
    "    plt = matplotlib.pyplot\n",
    "    plt.figure()\n",
    "    plt.title(f'Pareto Front')\n",
    "    plt.xlabel('Profit')\n",
    "    plt.ylabel('Dispersation')\n",
    "    plt.scatter([i.fitness_normalized[0] for i in front], [i.fitness_normalized[1] for i in front])\n",
    "    plt.scatter([i.fitness_normalized[0] for i in selected_individuals], [i.fitness_normalized[1] for i in selected_individuals], color='#2BF063')\n",
    "    plt.plot([i.fitness_normalized[0] for i in front], [i.fitness_normalized[1] for i in front], color='red', linewidth=1, linestyle='-')\n",
    "    plt.savefig(path)\n",
    "    plt.close()\n",
    "\n",
    "\n",
    "def pick_up_individuals(front):   \n",
    "    front_fitness = list({tuple(i.fitness) for i in front})  # Remove os itens repetidos\n",
    "    OPTIMIZE_PROFIT = -1\n",
    "    OPTIMIZE_MIDDLE = ((len(front_fitness) // 2) - 1)\n",
    "    OPTIMIZE_DISPERSATION = 0\n",
    "    \n",
    "    front_sorted = sorted(front, key=lambda x: x.fitness[0])\n",
    "    front_fitness = sorted(front_fitness, key=lambda x: x[0])\n",
    "    \n",
    "    aux_individuals_selected = front_fitness[OPTIMIZE_PROFIT], front_fitness[OPTIMIZE_MIDDLE], front_fitness[OPTIMIZE_DISPERSATION]  # Seleciona os 3 indivíduos (Aqui só tem os fitness)\n",
    "    selected = []\n",
    "    \n",
    "    # Método para descobrir qual a é o indivíduo(dentro da fronteira de pareto que possui vários objetos) que possui o fitness escolhido anteriormente\n",
    "    for i in aux_individuals_selected:\n",
    "        for individual in front_sorted:\n",
    "            if list(i) == individual.fitness:\n",
    "                selected.append(individual)\n",
    "                break\n",
    "\n",
    "    return front_sorted, selected\n",
    "\n",
    "def normalize(front, high_fitness_evaluated):\n",
    "    max_profit = high_fitness_evaluated[0]\n",
    "    max_dispersation = high_fitness_evaluated[1]\n",
    "    for i in front:\n",
    "        profit_normalized = i.fitness[0] / max_profit\n",
    "        dispersation_normalized = i.fitness[1] / max_dispersation\n",
    "        i.fitness_normalized = [profit_normalized, dispersation_normalized]\n",
    "    "
   ],
   "metadata": {
    "collapsed": false,
    "ExecuteTime": {
     "end_time": "2023-11-12T18:37:14.532397605Z",
     "start_time": "2023-11-12T18:37:14.360695181Z"
    }
   },
   "id": "initial_id"
  },
  {
   "cell_type": "code",
   "execution_count": 5,
   "outputs": [],
   "source": [
    "def export_frontier(export: ExportadorDeGraficos, population: Population):\n",
    "    generation_plot = [0, population.n_generations - 1, population.best_frontier]\n",
    "    for generation, front in population.pareto_history_front_normalized:\n",
    "        x = [i[0] for i in front]\n",
    "        y = [i[1] for i in front]\n",
    "        if generation in generation_plot:\n",
    "            export.plot(x, y, generation+1)\n",
    "\n",
    "def export_solution(population: Population, front_sorted, individuals_selected, export: ExportadorDeGraficos):\n",
    "    export.hypervolume_plot(population)\n",
    "    PickleSerializer.save(population, f'{export.data_hora_atual}/pickle.pkl')\n",
    "    path = export.data_hora_atual + '/' + export.get_file_name(population.best_frontier, 'png')\n",
    "    export_frontier(export, population)\n",
    "    paretos_frontier_plot(front_sorted, individuals_selected, path, population.best_frontier)\n",
    "    \n",
    "    \n",
    "def plot_frontier(population: Population, export):\n",
    "    frontier = population.pareto_history_front[population.best_frontier][1]\n",
    "    front_sorted, individuals_selected = pick_up_individuals(frontier)\n",
    "    \n",
    "    normalize(front_sorted, population.high_fitness_evaluated)\n",
    "    normalize(individuals_selected, population.high_fitness_evaluated)\n",
    "    \n",
    "    export_solution(population, front_sorted, individuals_selected, export)\n",
    "    \n",
    "    return individuals_selected"
   ],
   "metadata": {
    "collapsed": false,
    "ExecuteTime": {
     "end_time": "2023-11-12T18:37:14.749612587Z",
     "start_time": "2023-11-12T18:37:14.546993995Z"
    }
   },
   "id": "906b4a008edb8975"
  },
  {
   "cell_type": "code",
   "execution_count": 6,
   "outputs": [],
   "source": [
    "from src.genetic.arbitrage import Individual\n",
    "\n",
    "def decode_individual(individual: Individual, population: Population, individual_label, report_header, path, teams_dict: dict, verbose=True):\n",
    "    profit = individual.fitness[0]\n",
    "    number_of_surebets_chosen = sum([i[0] for i in individual.chromosome])\n",
    "    surebets_selected = []\n",
    "        \n",
    "    for gene, arbitrage in zip(individual.chromosome, individual.arbitrages):\n",
    "        if gene[0] == 1:\n",
    "            surebets_selected.append((f'Game: {teams_dict.get(arbitrage.game_id)}', f'Bookmaker 1: {arbitrage.bookmaker_key_OVER}', f'Bookmaker 2: {arbitrage.bookmaker_key_UNDER}', f'Amount bet R$ {round(gene[1] * population.budget, 2)}', f'Profit R$ {((gene[1]*population.budget)*(arbitrage.profit/100)):,.2f}', f'{arbitrage.profit:,.2f}%'))\n",
    "    \n",
    "    if verbose:\n",
    "        print(individual_label)\n",
    "        print(f'Number of surebets chosen: {number_of_surebets_chosen}')\n",
    "        print('Surebets Selected:')\n",
    "        for i in surebets_selected:\n",
    "            print(i)\n",
    "    \n",
    "        print(f'Total Profit: R$ {profit:,.2f}')\n",
    "        print('-------------------------------------------------------------------------------------------------------------------------------------------------------')\n",
    "    \n",
    "    with open(path, 'a') as file:\n",
    "        if report_header is not None:\n",
    "            file.write(report_header)\n",
    "\n",
    "        file.write(f'{individual_label}\\n')\n",
    "        file.write(f'Number of surebets chosen: {number_of_surebets_chosen}\\n')\n",
    "        file.write('Surebets Selected:\\n')\n",
    "        for i in surebets_selected:\n",
    "            file.write(str(i)+'\\n')\n",
    "        file.write(f'Total Profit: R$ {profit:,.2f}\\n')\n",
    "        file.write('-------------------------------------------------------------------------------------------------------------------------------------------------------\\n')\n",
    "        \n",
    "    "
   ],
   "metadata": {
    "collapsed": false,
    "ExecuteTime": {
     "end_time": "2023-11-12T18:37:15.047498943Z",
     "start_time": "2023-11-12T18:37:14.761404595Z"
    }
   },
   "id": "bc50179accb6ef1c"
  },
  {
   "cell_type": "code",
   "execution_count": 7,
   "outputs": [],
   "source": [
    "def run_scenario(start_date = '2023-09-02 14:00:00', end_date = '2023-09-02 14:05:00', verbose=True, count=0):\n",
    "    export = ExportadorDeGraficos()\n",
    "    \n",
    "    arbitrages = repository.find_all_unique_between(start_date, end_date)\n",
    "    population = Population(n_generations=n_generations, n_individuals=n_individuals, mutation_rate=mutation_rate, crossover_rate=crossover_rate, \n",
    "                            budget=1000, crossover_strategy=crossover, arbitrages=arbitrages)\n",
    "    \n",
    "    teams_dict = get_teams([i.game_id for i in arbitrages])\n",
    "\n",
    "    individuals_picked_up = plot_frontier(population, export)\n",
    "    \n",
    "    labels = ['Profit Optimization', 'Equilibrium Optimization', 'Dispersation Optimization']\n",
    "    folder = export.data_hora_atual\n",
    "    start = datetime.strptime(start_date, '%Y-%m-%d %H:%M:%S').strftime('%H:%M')\n",
    "    end = datetime.strptime(end_date, '%Y-%m-%d %H:%M:%S').strftime('%H:%M')\n",
    "    date_event = datetime.strptime(start_date, '%Y-%m-%d %H:%M:%S').strftime('%d/%m/%Y')\n",
    "    path = f\"{folder}/report_{start}_{end}.txt\"\n",
    "    \n",
    "    report_header = f\"\"\"************************************************************* EXPERIMENTAL RESULT REPORT *************************************************************\n",
    "\n",
    "[Date]: {date_event}\n",
    "[Surebet Interval]: {start} to {end}\n",
    "[Best frontier]: {population.best_frontier + 1}º generation\n",
    "[Budget]: R$ {population.budget:,.2f}\n",
    "\n",
    "\"\"\"\n",
    "    for label, individual in zip(labels, individuals_picked_up):\n",
    "        decode_individual(individual, population, label, report_header, path, teams_dict, verbose)\n",
    "        report_header = None\n"
   ],
   "metadata": {
    "collapsed": false,
    "ExecuteTime": {
     "end_time": "2023-11-12T18:37:15.258467350Z",
     "start_time": "2023-11-12T18:37:15.062944028Z"
    }
   },
   "id": "57698feae11cb122"
  },
  {
   "cell_type": "markdown",
   "source": [
    "<h3> Cenários mês de setembro </h3>\n",
    "<img src=\"images/surebets_setembro.png\" width=\"75%\">\n",
    "<br> <br>\n",
    "<img src=\"images/surebets_02_setembro.png\" width=\"75%\">"
   ],
   "metadata": {
    "collapsed": false
   },
   "id": "612d83120de61a94"
  },
  {
   "cell_type": "markdown",
   "source": [
    "<h3> Cenário 02/09/2023 </h3>"
   ],
   "metadata": {
    "collapsed": false
   },
   "id": "8c9dbf1612b74337"
  },
  {
   "cell_type": "code",
   "execution_count": 11,
   "outputs": [
    {
     "name": "stdout",
     "output_type": "stream",
     "text": [
      "1º\n",
      "Index: 175 [TAM]: 31\n",
      "2º\n",
      "Index: 143 [TAM]: 2\n",
      "3º\n",
      "Index: 57 [TAM]: 32\n",
      "4º\n",
      "Index: 135 [TAM]: 4\n",
      "5º\n",
      "Index: 114 [TAM]: 3\n",
      "6º\n",
      "Index: 104 [TAM]: 3\n",
      "7º\n",
      "Index: 181 [TAM]: 31\n",
      "8º\n",
      "Index: 0 [TAM]: 5\n",
      "9º\n",
      "Index: 43 [TAM]: 32\n",
      "10º\n",
      "Index: 192 [TAM]: 29\n",
      "11º\n",
      "Index: 127 [TAM]: 17\n",
      "12º\n",
      "Index: 170 [TAM]: 18\n",
      "13º\n",
      "Index: 191 [TAM]: 28\n",
      "14º\n",
      "Index: 153 [TAM]: 30\n",
      "15º\n",
      "Index: 140 [TAM]: 3\n",
      "16º\n",
      "Index: 199 [TAM]: 30\n",
      "17º\n",
      "Index: 195 [TAM]: 15\n",
      "18º\n",
      "Index: 35 [TAM]: 31\n",
      "19º\n",
      "Index: 81 [TAM]: 4\n",
      "20º\n",
      "Index: 5 [TAM]: 30\n"
     ]
    }
   ],
   "source": [
    "run_scenario(start_date='2023-09-02 14:00:00', end_date='2023-09-02 14:05:00', verbose=False)"
   ],
   "metadata": {
    "collapsed": false,
    "ExecuteTime": {
     "end_time": "2023-11-12T18:39:22.504283024Z",
     "start_time": "2023-11-12T18:39:07.196315836Z"
    }
   },
   "id": "4cf4f63ad3cb490f"
  },
  {
   "cell_type": "markdown",
   "source": [
    "\n",
    "### Cenário 24/09/2023\n"
   ],
   "metadata": {
    "collapsed": false
   },
   "id": "d0e4b2f223e21eaa"
  }
 ],
 "metadata": {
  "kernelspec": {
   "display_name": "Python 3",
   "language": "python",
   "name": "python3"
  },
  "language_info": {
   "codemirror_mode": {
    "name": "ipython",
    "version": 2
   },
   "file_extension": ".py",
   "mimetype": "text/x-python",
   "name": "python",
   "nbconvert_exporter": "python",
   "pygments_lexer": "ipython2",
   "version": "2.7.6"
  }
 },
 "nbformat": 4,
 "nbformat_minor": 5
}
