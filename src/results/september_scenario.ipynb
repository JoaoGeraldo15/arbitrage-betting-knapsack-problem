{
 "cells": [
  {
   "cell_type": "code",
   "execution_count": 1,
   "outputs": [],
   "source": [
    "import matplotlib\n",
    "from src.repository.surebet_repository import SurebetRepository\n",
    "repository = SurebetRepository()"
   ],
   "metadata": {
    "collapsed": false,
    "ExecuteTime": {
     "end_time": "2023-11-11T02:47:07.874415069Z",
     "start_time": "2023-11-11T02:47:04.523800428Z"
    }
   },
   "id": "88b563872d261a5"
  },
  {
   "cell_type": "code",
   "execution_count": null,
   "outputs": [],
   "source": [
    "def paretos_frontier_plot(front, selected_individuals):\n",
    "    plt = matplotlib.pyplot\n",
    "    plt.figure()\n",
    "    plt.xlim(0, 1.05)\n",
    "    # plt.ylim(0, 1.05)\n",
    "    plt.title(f'Generation')\n",
    "    plt.xlabel('Profit')\n",
    "    plt.ylabel('Dispersation')\n",
    "    plt.scatter([i.fitness_normalized[0] for i in front], [i.fitness_normalized[1] for i in front])\n",
    "    plt.scatter([i.fitness_normalized[0] for i in selected_individuals], [i.fitness_normalized[1] for i in selected_individuals], color='green')\n",
    "    \n",
    "def pick_up_individuals(front):\n",
    "    OPTIMIZE_PROFIT = -1\n",
    "    OPTIMIZE_DISPERSATION = 0\n",
    "    OPTIMIZE_MIDDLE = (len(front) // 2)\n",
    "    front_sorted = sorted(front, key=lambda x: x.fitness[0])\n",
    "    individuals_selected = front_sorted[OPTIMIZE_PROFIT], front_sorted[OPTIMIZE_DISPERSATION], front_sorted[OPTIMIZE_MIDDLE]\n",
    "    return front_sorted, individuals_selected\n",
    "\n",
    "def normalize(front):\n",
    "    max_profit = front[0].high_fitness_evaluated[0]\n",
    "    max_dispersation = front[0].high_fitness_evaluated[1]\n",
    "    for i in front:\n",
    "        profit_normalized = i.fitness[0] / max_profit\n",
    "        dispersation_normalized = i.fitness[1] / max_dispersation\n",
    "        i.fitness_normalized = [profit_normalized, dispersation_normalized]\n",
    "    "
   ],
   "metadata": {
    "collapsed": false
   },
   "id": "initial_id"
  },
  {
   "cell_type": "code",
   "execution_count": null,
   "outputs": [],
   "source": [
    "\n",
    "frontier = population.pareto_history_front[299][1]\n",
    "front_sorted, individuals_selected = pick_up_individuals(frontier)\n",
    "print(len(front_sorted))\n",
    "print(len(individuals_selected))\n",
    "normalize(front_sorted)\n",
    "normalize(individuals_selected)\n",
    "paretos_frontier_plot(front_sorted, individuals_selected)"
   ],
   "metadata": {
    "collapsed": false
   },
   "id": "906b4a008edb8975"
  },
  {
   "cell_type": "markdown",
   "source": [
    "<h3> Cenário 02/09/2023 </h3>\n",
    "\n",
    "<img src=\"images/surebets_setembro.png\" width=\"75%\">\n",
    "<br> <br>\n",
    "<img src=\"images/surebets_02_setembro.png\" width=\"75%\">\n",
    "\n"
   ],
   "metadata": {
    "collapsed": false
   },
   "id": "8c9dbf1612b74337"
  },
  {
   "cell_type": "code",
   "execution_count": 23,
   "outputs": [
    {
     "name": "stdout",
     "output_type": "stream",
     "text": [
      "2\n",
      "2023-09-02 14:09:03 x 2023-09-02 14:13:37\n",
      "2023-09-02 14:08:59 x 2023-09-02 14:13:37\n"
     ]
    }
   ],
   "source": [
    "start_date = '2023-09-02 14:05:00'\n",
    "end_date = '2023-09-02 14:10:00'\n",
    "arbitrages = repository.find_all_unique_between(start_date, end_date)\n",
    "print(len(arbitrages))\n",
    "for i in arbitrages:\n",
    "    print(f'{i.last_update_OVER} x {i.last_update_UNDER}')"
   ],
   "metadata": {
    "collapsed": false,
    "ExecuteTime": {
     "end_time": "2023-11-11T03:04:29.733093259Z",
     "start_time": "2023-11-11T03:04:29.674515420Z"
    }
   },
   "id": "b9e4967c1e4182d"
  },
  {
   "cell_type": "code",
   "execution_count": 32,
   "outputs": [
    {
     "name": "stdout",
     "output_type": "stream",
     "text": [
      "2\n",
      "2023-09-02 14:09:03 x 2023-09-02 14:13:37 --> over_id: 62904   under_id: 186145\n",
      "2023-09-02 14:08:59 x 2023-09-02 14:13:37 --> over_id: 62908   under_id: 186145\n"
     ]
    }
   ],
   "source": [
    "start_date = '2023-09-02 14:05:00'\n",
    "end_date = '2023-09-02 14:10:00'\n",
    "arbitrages = repository.find_all_unique_between(start_date, end_date)\n",
    "print(len(arbitrages))\n",
    "for i in arbitrages:\n",
    "    print(f'{i.last_update_OVER} x {i.last_update_UNDER} --> over_id: {i.outcome_id_OVER}   under_id: {i.outcome_id_UNDER}')\n"
   ],
   "metadata": {
    "collapsed": false,
    "ExecuteTime": {
     "end_time": "2023-11-11T05:02:41.164405983Z",
     "start_time": "2023-11-11T05:02:41.038703695Z"
    }
   },
   "id": "ab3e5f8ea1965c8b"
  },
  {
   "cell_type": "markdown",
   "source": [
    "\n",
    "### Cenário 24/09/2023\n"
   ],
   "metadata": {
    "collapsed": false
   },
   "id": "d0e4b2f223e21eaa"
  },
  {
   "cell_type": "code",
   "execution_count": null,
   "outputs": [],
   "source": [],
   "metadata": {
    "collapsed": false
   },
   "id": "857399d7703804d"
  }
 ],
 "metadata": {
  "kernelspec": {
   "display_name": "Python 3",
   "language": "python",
   "name": "python3"
  },
  "language_info": {
   "codemirror_mode": {
    "name": "ipython",
    "version": 2
   },
   "file_extension": ".py",
   "mimetype": "text/x-python",
   "name": "python",
   "nbconvert_exporter": "python",
   "pygments_lexer": "ipython2",
   "version": "2.7.6"
  }
 },
 "nbformat": 4,
 "nbformat_minor": 5
}
