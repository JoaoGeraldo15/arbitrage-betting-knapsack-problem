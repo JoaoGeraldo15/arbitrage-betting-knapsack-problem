{
 "cells": [
  {
   "cell_type": "code",
   "execution_count": 3,
   "outputs": [],
   "source": [
    "from src.genetic.arbitrage import Arbitrage, Population, Individual\n",
    "\n",
    "import matplotlib.pyplot as plt\n",
    "import matplotlib"
   ],
   "metadata": {
    "collapsed": false,
    "ExecuteTime": {
     "end_time": "2023-09-28T23:23:07.474243472Z",
     "start_time": "2023-09-28T23:23:06.623556520Z"
    }
   },
   "id": "7fde8c765c8afa94"
  },
  {
   "cell_type": "code",
   "execution_count": 2,
   "outputs": [
    {
     "ename": "AttributeError",
     "evalue": "'Population' object has no attribute 'normalize_fitness_population'",
     "output_type": "error",
     "traceback": [
      "\u001B[0;31m---------------------------------------------------------------------------\u001B[0m",
      "\u001B[0;31mAttributeError\u001B[0m                            Traceback (most recent call last)",
      "Cell \u001B[0;32mIn[2], line 5\u001B[0m\n\u001B[1;32m      2\u001B[0m \u001B[38;5;28;01mwith\u001B[39;00m \u001B[38;5;28mopen\u001B[39m(\u001B[38;5;124m'\u001B[39m\u001B[38;5;124m/home/joaogeraldo/TCC/fetch-api/src/genetic/population.data\u001B[39m\u001B[38;5;124m'\u001B[39m, \u001B[38;5;124m'\u001B[39m\u001B[38;5;124mrb\u001B[39m\u001B[38;5;124m'\u001B[39m) \u001B[38;5;28;01mas\u001B[39;00m file:\n\u001B[1;32m      3\u001B[0m     population: Population \u001B[38;5;241m=\u001B[39m pickle\u001B[38;5;241m.\u001B[39mload(file)\n\u001B[0;32m----> 5\u001B[0m \u001B[43mpopulation\u001B[49m\u001B[38;5;241;43m.\u001B[39;49m\u001B[43mnormalize_fitness_population\u001B[49m(population\u001B[38;5;241m.\u001B[39msolutions)\n\u001B[1;32m      6\u001B[0m population\u001B[38;5;241m.\u001B[39mnsga_evaluation()\n\u001B[1;32m      7\u001B[0m population\u001B[38;5;241m.\u001B[39mcommit_history_solutions()\n",
      "\u001B[0;31mAttributeError\u001B[0m: 'Population' object has no attribute 'normalize_fitness_population'"
     ]
    }
   ],
   "source": [
    "import pickle\n",
    "with open('/home/joaogeraldo/TCC/fetch-api/src/genetic/population.data', 'rb') as file:\n",
    "    population: Population = pickle.load(file)"
   ],
   "metadata": {
    "collapsed": false,
    "ExecuteTime": {
     "end_time": "2023-09-28T20:58:43.830353447Z",
     "start_time": "2023-09-28T20:58:43.635964574Z"
    }
   },
   "id": "10bee1f0823075f8"
  },
  {
   "cell_type": "code",
   "execution_count": null,
   "outputs": [],
   "source": [
    "def mostrar():\n",
    "    count = 1\n",
    "    for front in population.pareto_fronts:\n",
    "        print(f'FRONT: [{count}]')\n",
    "        for i in front:\n",
    "            print(f'{i.fitness_normalized}')\n",
    "            for d in i.dominated_solutions:\n",
    "                print(f' ---> {d.fitness_normalized} {d.crowding_distance} [{d.dominated_by_count}]')\n",
    "            print('---------------------------------------------------------------')\n",
    "        count += 1"
   ],
   "metadata": {
    "collapsed": false,
    "ExecuteTime": {
     "start_time": "2023-09-28T20:58:43.812940661Z"
    }
   },
   "id": "d8d979cf41b4a7ef"
  },
  {
   "cell_type": "code",
   "execution_count": 33,
   "outputs": [],
   "source": [
    "def plot(x, y):\n",
    "    \n",
    "    plt = matplotlib.pyplot\n",
    "\n",
    "    # Crie um array de valores de 0 a 1 com espaçamento de 0.1\n",
    "    \n",
    "    plt.xlim(0, 1.05)\n",
    "    plt.ylim(0, 1.05)\n",
    "\n",
    "    # Defina o tamanho da figura (largura x altura) em polegadas\n",
    "    # largura_figura = 20  # Ajuste a largura\n",
    "    # altura_figura = 6    # Ajuste a altura\n",
    "    # plt.figure(figsize=(largura_figura, altura_figura))\n",
    "    \n",
    "    plt.xlabel('Profit')\n",
    "    plt.ylabel('Dispersation')\n",
    "    \n",
    "    plt.scatter(x, y)\n",
    "    plt.grid(True)\n",
    "    plt.show()\n"
   ],
   "metadata": {
    "collapsed": false,
    "ExecuteTime": {
     "end_time": "2023-09-28T23:37:16.376856345Z",
     "start_time": "2023-09-28T23:37:16.121455203Z"
    }
   },
   "id": "199c5302545a660c"
  },
  {
   "cell_type": "code",
   "execution_count": null,
   "outputs": [],
   "source": [
    "profit = [i.fitness_normalized[0] for i in population.solutions]\n",
    "dispersation = [i.fitness_normalized[1] for i in population.solutions]\n",
    "plot(profit, dispersation)\n"
   ],
   "metadata": {
    "collapsed": false,
    "ExecuteTime": {
     "start_time": "2023-09-28T20:58:43.863212358Z"
    }
   },
   "id": "7bd34719a0b285a8"
  },
  {
   "cell_type": "code",
   "execution_count": null,
   "outputs": [],
   "source": [
    "for x,y in population.solutions_history:\n",
    "    print(f'x --> {x} :::: y --> {y}')"
   ],
   "metadata": {
    "collapsed": false,
    "ExecuteTime": {
     "start_time": "2023-09-28T20:58:43.863545543Z"
    }
   },
   "id": "6c4f91a515c0aefc"
  },
  {
   "cell_type": "code",
   "execution_count": null,
   "outputs": [],
   "source": [
    "for i in population.solutions:\n",
    "    i.print_chromossome()"
   ],
   "metadata": {
    "collapsed": false,
    "ExecuteTime": {
     "start_time": "2023-09-28T20:58:43.863612068Z"
    }
   },
   "id": "7572998424f2b786"
  },
  {
   "cell_type": "code",
   "execution_count": 4,
   "outputs": [],
   "source": [
    "arbitrages = []\n",
    "arbitrages.append(Arbitrage(\"a86e2d9332c3ae6995a042ed4b95fe2b\", 59664,\t59631, \"UNIBET_EU\", \"ONEXBET\",\t2.0,\t2.02, 0.49))\n",
    "arbitrages.append(Arbitrage(\"a86e2d9332c3ae6995a042ed4b95fe2b\", 59664,\t59655, \"UNIBET_EU\", \"PINNACLE\",\t2.0,\t2.03, 0.73))\n",
    "arbitrages.append(Arbitrage(\"45c50eab0a379bd74d9ad5879ee50595\", 94745,\t94783, \"ONEXBET\", \"UNIBET_EU\",\t1.9,\t2.12, 0.19))\n",
    "arbitrages.append(Arbitrage(\"45c50eab0a379bd74d9ad5879ee50595\", 94745,\t94791, \"ONEXBET\", \"MATCHBOOK\",\t1.9,\t2.14, 0.63))\n",
    "arbitrages.append(Arbitrage(\"ff03cc32e860ac5cd4c907381443986f\", 94795,\t94833, \"ONEXBET\", \"UNIBET_EU\",\t2.12,\t1.91, 0.47))\n",
    "arbitrages.append(Arbitrage(\"ff03cc32e860ac5cd4c907381443986f\", 94840,\t94833, \"MATCHBOOK\", \"UNIBET_EU\",\t2.12,\t1.91, 0.47))\n",
    "arbitrages.append(Arbitrage(\"6454621f739da2ded2aaae7694e8835a\", 50050,\t50043, \"ONEXBET\", \"NORDICBET\",\t2.08,\t1.95, 0.64))\n",
    "arbitrages.append(Arbitrage(\"6454621f739da2ded2aaae7694e8835a\", 50771,\t50764, \"ONEXBET\", \"NORDICBET\",\t2.08,\t1.95, 0.64))\n",
    "arbitrages.append(Arbitrage(\"6454621f739da2ded2aaae7694e8835a\", 51606,\t51599, \"ONEXBET\", \"NORDICBET\",\t2.08,\t1.95, 0.64))\n",
    "arbitrages.append(Arbitrage(\"6454621f739da2ded2aaae7694e8835a\", 56150,\t56143, \"ONEXBET\", \"NORDICBET\",\t2.08,\t1.95, 0.64))\n",
    "arbitrages.append(Arbitrage(\"6454621f739da2ded2aaae7694e8835a\", 56932,\t56925, \"ONEXBET\", \"NORDICBET\",\t2.08,\t1.95, 0.64))\n",
    "arbitrages.append(Arbitrage(\"6454621f739da2ded2aaae7694e8835a\", 59265,\t59258, \"ONEXBET\", \"NORDICBET\",\t2.08,\t1.95, 0.64))"
   ],
   "metadata": {
    "collapsed": false,
    "ExecuteTime": {
     "end_time": "2023-09-28T23:23:16.434936698Z",
     "start_time": "2023-09-28T23:23:16.394241109Z"
    }
   },
   "id": "747ac992a1de8d05"
  },
  {
   "cell_type": "code",
   "execution_count": 5,
   "outputs": [],
   "source": [
    "population = Population(arbitrages, 100, 50)"
   ],
   "metadata": {
    "collapsed": false,
    "ExecuteTime": {
     "end_time": "2023-09-28T23:23:19.235551210Z",
     "start_time": "2023-09-28T23:23:19.201044312Z"
    }
   },
   "id": "249b5d5f0834dfe4"
  },
  {
   "cell_type": "code",
   "execution_count": 6,
   "outputs": [],
   "source": [
    "import datetime\n",
    "def get_file_name(geracoes):\n",
    "    data_e_hora_atual = datetime.datetime.now()\n",
    "    return f'{data_e_hora_atual.strftime(\"%Y_%m_%d_[%H:%M:%S]\")}_[G:{geracoes}].gif'\n"
   ],
   "metadata": {
    "collapsed": false,
    "ExecuteTime": {
     "end_time": "2023-09-28T23:23:23.054081526Z",
     "start_time": "2023-09-28T23:23:23.033654821Z"
    }
   },
   "id": "a8929c8182f1a0a5"
  },
  {
   "cell_type": "code",
   "execution_count": 7,
   "outputs": [
    {
     "data": {
      "text/plain": "<Figure size 640x480 with 1 Axes>",
      "image/png": "[encoded data removed]"
     },
     "metadata": {},
     "output_type": "display_data"
    }
   ],
   "source": [
    "from matplotlib.animation import PillowWriter\n",
    "\n",
    "metadata = dict(title='NSGA-II', artist='João Geraldo')\n",
    "writer = PillowWriter(fps=2, metadata=metadata)\n",
    "fig = plt.figure()\n",
    "# l, = plt.plot([], [], 'ko', markersize=5, color='lightblue')\n",
    "l, = plt.plot([], [], 'ko', markersize=5)  # Apenas 'ko' para a cor preta\n",
    "plt.setp(l, color='#FF5500')  # Cor laranja\n",
    "\n",
    "plt.xlim(0, 1.05)\n",
    "plt.ylim(0, 1.05)\n",
    "plt.xlabel('Profit')\n",
    "plt.ylabel('Dispersation')\n",
    "file_name = get_file_name(population.generations)\n",
    "\n",
    "with writer.saving(fig, file_name, 100):\n",
    "    for i in range(len(population.solutions_history)):\n",
    "        plt.title(f'{i}° Geração')\n",
    "        l.set_data(population.solutions_history[i][0],[population.solutions_history[i][1]])\n",
    "        writer.grab_frame()"
   ],
   "metadata": {
    "collapsed": false,
    "ExecuteTime": {
     "end_time": "2023-09-28T23:23:29.688019317Z",
     "start_time": "2023-09-28T23:23:27.730882Z"
    }
   },
   "id": "879f14320953c52f"
  },
  {
   "cell_type": "code",
   "execution_count": 47,
   "outputs": [
    {
     "name": "stdout",
     "output_type": "stream",
     "text": [
      "0\n",
      "[[0.8803, 1.0], [0.9414, 0.6319], [0.9034, 0.997], [1.0, 0.621]]\n",
      "0.021684659999999994\n",
      "0\n",
      "[[1.0, 0.621], [0.9657, 1.0], [0.9414, 0.6319], [1.0, 0.9137]]\n",
      "0.021570659999999995\n",
      "1\n",
      "[[0.9657, 1.0], [1.0, 0.569], [0.9683, 0.7939], [1.0, 0.621], [0.887, 1.0], [0.923, 0.926], [0.9342, 0.9036], [1.0, 0.569]]\n",
      "0.01064940999999999\n",
      "2\n",
      "[[0.9657, 1.0], [1.0, 0.5872], [0.9984, 0.711], [0.9492, 1.0], [0.9617, 0.8622], [1.0, 0.569], [0.887, 1.0], [0.9683, 0.7939], [0.9683, 0.8193], [1.0, 0.621], [1.0, 0.569], [1.0, 0.5872], [0.9683, 0.8193]]\n",
      "0.007575489999999999\n",
      "3\n",
      "[[0.9657, 1.0], [1.0, 0.8511], [0.9492, 1.0], [0.887, 1.0], [0.9544, 1.0], [0.9864, 0.98], [0.9617, 0.8622], [0.9544, 1.0]]\n",
      "0.005277740000000002\n",
      "4\n",
      "[[0.9657, 1.0], [1.0, 0.8511], [0.8861, 1.0], [0.887, 1.0], [0.9718, 0.9462], [0.9603, 0.9613], [1.0, 0.8278], [0.8861, 1.0]]\n",
      "0.001962209999999997\n",
      "5\n",
      "[[1.0, 0.8511], [0.898, 1.0], [1.0, 0.8278], [1.0, 0.9974]]\n",
      "0.0\n",
      "6\n",
      "[[1.0, 0.8511], [0.898, 1.0], [0.9791, 0.9317], [1.0, 0.8278], [0.9972, 0.8057], [1.0, 0.9974], [0.9915, 0.8219], [1.0, 0.7889], [0.9916, 0.8124]]\n",
      "0.002459329999999997\n",
      "7\n",
      "[[0.898, 1.0], [1.0, 0.7542], [0.9791, 0.9317], [1.0, 0.9974], [0.9785, 0.954], [0.9959, 0.8302]]\n",
      "0.0018712199999999985\n",
      "8\n",
      "[[1.0, 0.7542], [0.8839, 1.0], [0.9791, 0.9317], [0.9959, 0.8302], [1.0, 0.9974], [0.9785, 0.954], [1.0, 0.8653], [1.0, 0.8653]]\n",
      "0.0018712199999999985\n",
      "9\n",
      "[[1.0, 0.7542], [0.8839, 1.0], [0.9785, 0.954], [0.9685, 0.8811], [1.0, 0.9974], [0.9791, 0.9317], [0.9959, 0.8302], [0.9908, 0.8763], [1.0, 0.8653], [1.0, 0.8653], [0.9908, 0.8763]]\n",
      "0.003978519999999997\n",
      "10\n",
      "[[0.8722, 1.0], [1.0, 0.6805], [0.9959, 0.8302], [0.9973, 0.7476], [0.9785, 0.954], [0.9685, 0.8811], [1.0, 0.9974], [0.9908, 0.8763], [1.0, 0.7542], [0.9791, 0.9317], [0.9908, 0.8763], [1.0, 0.8653], [1.0, 0.8653], [1.0, 0.6805]]\n",
      "0.004201539999999999\n",
      "11\n",
      "[[0.8722, 1.0], [1.0, 0.78], [1.0, 0.9974], [0.9685, 0.8811], [0.9785, 0.954], [0.9959, 0.8302], [0.9576, 0.9127], [1.0, 0.8653], [0.9971, 0.7904], [0.9908, 0.8763], [0.9908, 0.8763]]\n",
      "0.00504551\n",
      "12\n",
      "[[0.8722, 1.0], [1.0, 0.78], [1.0, 0.9974], [0.9796, 0.9388], [0.9959, 0.8302], [0.9908, 0.8763], [0.9971, 0.7904], [0.9785, 0.954], [1.0, 0.8653], [0.9908, 0.8763]]\n",
      "0.002178509999999998\n",
      "13\n",
      "[[0.8722, 1.0], [1.0, 0.78], [1.0, 0.9974], [1.0, 0.8391], [0.9781, 1.0], [0.9908, 0.8763], [0.9796, 0.9388], [0.9971, 0.7904], [0.9959, 0.8302], [0.9908, 0.8763], [0.9785, 0.954], [1.0, 0.8653], [1.0, 0.8391]]\n",
      "0.002178509999999998\n",
      "14\n",
      "[[0.8722, 1.0], [1.0, 0.78], [1.0, 0.9974], [0.9579, 1.0], [0.9781, 1.0], [0.9796, 0.9388], [1.0, 0.8873], [1.0, 0.8653], [0.9971, 0.7904], [0.9908, 0.8763], [0.9908, 0.8763], [0.9785, 0.954]]\n",
      "0.002123189999999999\n",
      "15\n",
      "[[0.8722, 1.0], [1.0, 0.78], [1.0, 0.9974], [0.998, 0.8657], [1.0, 0.8653], [0.972, 0.9737], [0.9971, 0.7904], [0.9635, 0.977], [0.9785, 0.954], [0.9781, 1.0], [0.9796, 0.9388], [1.0, 0.8873], [1.0, 0.8417], [0.9908, 0.8763], [0.9908, 0.8763], [1.0, 0.8417]]\n",
      "0.0024896399999999996\n",
      "16\n",
      "[[1.0, 0.78], [0.9054, 1.0], [0.998, 0.8657], [1.0, 0.8873], [0.9971, 0.7904], [1.0, 0.9974], [1.0, 0.8653], [0.8722, 1.0], [0.972, 0.9737], [0.9785, 0.954], [0.9836, 0.9343], [0.9781, 1.0], [0.9635, 0.977], [0.9796, 0.9388], [0.9054, 1.0]]\n",
      "0.00215664\n",
      "17\n",
      "[[1.0, 0.78], [0.9057, 1.0], [1.0, 0.9974], [0.9836, 0.9343], [0.9971, 0.7904], [0.998, 0.8657], [0.9781, 1.0], [0.9785, 0.954], [0.972, 0.9737], [1.0, 0.8873], [1.0, 0.8653]]\n",
      "0.0019003400000000012\n",
      "18\n",
      "[[0.9057, 1.0], [1.0, 0.825], [0.9836, 0.9343], [0.998, 0.8657], [0.972, 0.9737], [0.9781, 1.0], [1.0, 0.9974], [0.9785, 0.954], [1.0, 0.8653]]\n",
      "0.0016202299999999994\n",
      "19\n",
      "[[0.9057, 1.0], [1.0, 0.825], [0.998, 0.8657], [0.972, 0.9737], [1.0, 0.9974], [0.9781, 1.0], [0.9475, 0.9273], [1.0, 0.8653], [0.9785, 0.954]]\n",
      "0.0039399499999999985\n",
      "20\n",
      "[[0.9057, 1.0], [1.0, 0.825], [0.9858, 0.916], [1.0, 0.8579], [1.0, 0.9974], [0.9475, 0.9273], [0.9715, 0.9381], [0.972, 0.9737]]\n",
      "0.0039772099999999975\n",
      "21\n",
      "[[0.9057, 1.0], [1.0, 0.825], [0.9898, 0.8749], [0.9475, 0.9273], [1.0, 0.9974], [1.0, 0.8579], [1.0, 0.8746], [0.972, 0.9737], [0.9858, 0.916], [0.9845, 0.9471], [0.9715, 0.9381], [1.0, 0.8746]]\n",
      "0.004396429999999998\n",
      "22\n",
      "[[0.9057, 1.0], [1.0, 0.825], [1.0, 0.9974], [1.0, 0.9207], [0.9715, 0.9381], [0.9845, 0.9471], [0.9475, 0.9273], [0.9858, 0.916], [0.972, 0.9737]]\n",
      "0.003977209999999998\n",
      "23\n",
      "[[0.9057, 1.0], [1.0, 0.825], [1.0, 0.9974], [0.9858, 0.916], [1.0, 0.9207], [0.9845, 0.9471], [0.9936, 0.9002], [0.972, 0.9737], [0.9475, 0.9273], [0.9715, 0.9381]]\n",
      "0.004078329999999997\n",
      "24\n",
      "[[0.9057, 1.0], [1.0, 0.825], [1.0, 0.9974], [0.9936, 0.9002], [0.9845, 0.9471], [0.9858, 0.916], [0.947, 1.0], [1.0, 0.9207], [0.972, 0.9737], [0.9475, 0.9273], [0.9715, 0.9381]]\n",
      "0.004078329999999997\n",
      "25\n",
      "[[0.9057, 1.0], [1.0, 0.825], [1.0, 0.9207], [0.9936, 0.9002], [1.0, 0.9974], [0.9858, 0.916], [0.947, 1.0], [1.0, 0.9767], [0.9845, 0.9471], [0.9475, 0.9273]]\n",
      "0.004078329999999997\n",
      "26\n",
      "[[0.9057, 1.0], [1.0, 0.825], [1.0, 0.9974], [0.947, 1.0], [1.0, 0.9207], [0.9845, 0.9471], [1.0, 0.9224], [0.9994, 0.9634], [1.0, 0.9767], [0.9475, 0.9273], [0.9936, 0.9002], [1.0, 0.9224]]\n",
      "0.003990189999999998\n",
      "27\n",
      "[[1.0, 0.825], [0.9005, 1.0], [0.9031, 0.9986], [1.0, 0.9974], [0.9994, 0.9634], [0.9845, 0.9471], [1.0, 0.9207], [0.9057, 1.0], [0.9593, 0.947], [1.0, 0.9224], [0.947, 1.0], [1.0, 0.9767], [1.0, 0.9224], [0.9936, 0.9002], [0.9031, 0.9986]]\n",
      "0.002535299999999995\n",
      "28\n",
      "[[1.0, 0.825], [0.9186, 1.0], [1.0, 0.9207], [1.0, 0.9974], [0.9593, 0.947], [0.9994, 0.9634], [0.9845, 0.9471], [0.947, 1.0], [1.0, 0.9224], [1.0, 0.9767], [0.9057, 1.0], [0.9005, 1.0], [0.9031, 0.9986]]\n",
      "0.0022357799999999975\n",
      "29\n",
      "[[1.0, 0.825], [0.9005, 1.0], [1.0, 0.9207], [0.9593, 0.947], [0.9057, 1.0], [1.0, 0.9767], [0.9926, 0.933], [0.9476, 1.0], [0.9186, 1.0], [0.947, 1.0], [0.9517, 0.9781], [1.0, 0.9252], [0.9994, 0.9634]]\n",
      "0.00242714\n",
      "30\n",
      "[[1.0, 0.825], [0.9186, 1.0], [0.9057, 1.0], [1.0, 0.9767], [1.0, 0.9207], [0.9476, 1.0], [0.9926, 0.933], [0.9986, 0.8855], [1.0, 0.9252], [0.9532, 0.9749], [0.947, 1.0], [0.9517, 0.9781], [1.0, 0.8811], [0.9593, 0.947], [0.9005, 1.0], [1.0, 0.8811], [0.9532, 0.9749]]\n",
      "0.002513159999999998\n",
      "31\n",
      "[[1.0, 0.825], [0.896, 1.0], [0.8985, 0.9986], [0.9476, 1.0], [1.0, 0.9207], [1.0, 0.9767], [0.9926, 0.933], [0.9605, 0.9448], [1.0, 0.8611], [0.9532, 0.9749], [1.0, 0.9252], [0.9057, 1.0], [0.947, 1.0], [0.9517, 0.9781], [0.9186, 1.0], [0.896, 1.0], [0.896, 1.0]]\n",
      "0.0025582799999999974\n",
      "32\n",
      "[[1.0, 0.825], [0.896, 1.0], [1.0, 0.9767], [0.9605, 0.9448], [0.9926, 0.933], [1.0, 0.9207], [0.9476, 1.0], [1.0, 0.9252], [0.8985, 0.9986], [0.9484, 0.9903], [1.0, 0.8906], [0.9532, 0.9749], [1.0, 0.8611], [0.9057, 1.0], [1.0, 0.8906]]\n",
      "0.002567369999999997\n",
      "33\n",
      "[[1.0, 0.825], [0.896, 1.0], [0.9476, 1.0], [0.8985, 0.9986], [1.0, 0.8906], [0.9926, 0.933], [0.9605, 0.9448], [1.0, 0.9767], [1.0, 0.9252], [0.9484, 0.9903], [0.9532, 0.9749], [1.0, 0.9207]]\n",
      "0.002567369999999997\n",
      "34\n",
      "[[1.0, 0.825], [0.8937, 1.0], [1.0, 0.9207], [0.9476, 1.0], [0.8985, 0.9986], [0.9605, 0.9448], [1.0, 0.9252], [0.9484, 0.9903], [0.9926, 0.933], [1.0, 0.9767], [0.9532, 0.9749], [1.0, 0.8578], [0.896, 1.0], [1.0, 0.8906], [1.0, 0.8578]]\n",
      "0.002567369999999997\n",
      "35\n",
      "[[1.0, 0.825], [0.8937, 1.0], [0.9476, 1.0], [0.8985, 0.9986], [1.0, 0.9252], [0.9926, 0.933], [0.9605, 0.9448], [0.9484, 0.9903], [1.0, 0.9767], [0.9532, 0.9749], [1.0, 0.8578], [1.0, 0.9207]]\n",
      "0.002567369999999997\n",
      "36\n",
      "[[1.0, 0.825], [0.8937, 1.0], [1.0, 0.9767], [0.9476, 1.0], [0.8985, 0.9986], [1.0, 0.9252], [1.0, 0.9207], [0.9484, 0.9903], [0.9926, 0.933], [0.9532, 0.9749], [1.0, 0.8578], [0.9605, 0.9448]]\n",
      "0.002567369999999997\n",
      "37\n",
      "[[1.0, 0.825], [0.8937, 1.0], [1.0, 0.9767], [0.9926, 0.933], [0.9476, 1.0], [0.8985, 0.9986], [1.0, 0.9252], [1.0, 0.8578], [0.9532, 0.9749], [1.0, 0.9207], [0.9484, 0.9903], [0.9605, 0.9448]]\n",
      "0.002567369999999997\n",
      "38\n",
      "[[1.0, 0.825], [0.8925, 1.0], [1.0, 0.9207], [0.9476, 1.0], [0.9108, 0.9835], [0.9605, 0.9448], [0.8985, 0.9986], [0.9484, 0.9903], [1.0, 0.9767], [0.9532, 0.9749], [0.9926, 0.933], [0.9973, 0.8594], [1.0, 0.9252], [1.0, 0.8527], [0.8937, 1.0], [1.0, 0.8578]]\n",
      "0.0033664899999999985\n",
      "39\n",
      "[[1.0, 0.825], [0.8925, 1.0], [1.0, 0.9207], [0.912, 1.0], [1.0, 0.9767], [0.8985, 0.9986], [0.9958, 0.881], [0.9484, 0.9903], [0.9926, 0.933], [0.9663, 0.9664], [0.9108, 0.9835], [0.9476, 1.0], [0.9973, 0.8594], [1.0, 0.871], [0.912, 1.0]]\n",
      "0.002589169999999993\n",
      "40\n",
      "[[1.0, 0.825], [0.8925, 1.0], [1.0, 0.9207], [0.9958, 0.881], [0.9663, 0.9664], [0.9476, 1.0], [0.9108, 0.9835], [0.9484, 0.9903], [0.9926, 0.933], [0.8985, 0.9986], [0.912, 1.0], [1.0, 0.9767]]\n",
      "0.002530849999999992\n",
      "41\n",
      "[[1.0, 0.825], [0.9072, 1.0], [1.0, 0.9207], [0.9476, 1.0], [0.9663, 0.9664], [0.9926, 0.933], [0.9958, 0.881], [0.9484, 0.9903], [1.0, 0.9767], [0.9108, 0.9835], [0.912, 1.0]]\n",
      "0.0025136299999999924\n",
      "42\n",
      "[[1.0, 0.825], [0.9072, 1.0], [1.0, 0.9207], [0.912, 1.0], [0.9484, 0.9903], [0.9663, 0.9664], [1.0, 0.9767], [0.9958, 0.881], [0.9926, 0.933], [0.9108, 0.9835], [0.9476, 1.0]]\n",
      "0.0025136299999999924\n",
      "43\n",
      "[[1.0, 0.825], [0.9072, 1.0], [0.9958, 0.881], [0.9476, 1.0], [1.0, 0.9767], [0.9108, 0.9835], [0.9926, 0.933], [0.9663, 0.9664], [1.0, 0.9207], [0.912, 1.0], [0.9734, 1.0], [0.9778, 0.9962]]\n",
      "0.0025136299999999924\n",
      "44\n",
      "[[1.0, 0.825], [0.9072, 1.0], [1.0, 0.9767], [0.9958, 0.881], [0.9926, 0.933], [0.9476, 1.0], [0.9663, 0.9664], [1.0, 0.9207], [0.9734, 1.0], [0.912, 1.0], [0.9108, 0.9835], [0.9778, 0.9962]]\n",
      "0.0025136299999999924\n",
      "45\n",
      "[[1.0, 0.825], [0.9072, 1.0], [1.0, 0.9767], [0.9958, 0.881], [0.9926, 0.933], [0.9108, 0.9835], [1.0, 0.9207], [0.9476, 1.0], [0.9663, 0.9664], [0.9734, 1.0], [0.9778, 0.9962], [0.912, 1.0]]\n",
      "0.0025136299999999924\n",
      "46\n",
      "[[1.0, 0.825], [0.9072, 1.0], [0.912, 1.0], [1.0, 0.9767], [0.9958, 0.881], [1.0, 0.9207], [0.9926, 0.933], [0.9476, 1.0], [0.9663, 0.9664], [0.9734, 1.0], [0.9108, 0.9835], [0.9778, 0.9962]]\n",
      "0.0025136299999999924\n",
      "47\n",
      "[[1.0, 0.825], [0.9072, 1.0], [1.0, 0.9767], [0.9476, 1.0], [0.9663, 0.9664], [0.9926, 0.933], [0.9958, 0.881], [0.9108, 0.9835], [1.0, 0.9207], [0.9734, 1.0], [1.0, 0.8537], [0.9778, 0.9962], [0.912, 1.0], [1.0, 0.8537]]\n",
      "0.0025136299999999924\n",
      "48\n",
      "[[1.0, 0.825], [0.9072, 1.0], [0.9926, 0.933], [0.9476, 1.0], [0.9108, 0.9835], [1.0, 0.9767], [0.9958, 0.881], [1.0, 0.9207], [1.0, 0.8537], [0.9778, 0.9962], [0.9663, 0.9664], [0.9734, 1.0]]\n",
      "0.0025136299999999924\n",
      "49\n",
      "[[1.0, 0.825], [0.9072, 1.0], [1.0, 0.9207], [0.9926, 0.933], [0.9958, 0.881], [1.0, 0.9767], [0.9476, 1.0], [0.9663, 0.9664], [0.9734, 1.0], [0.9687, 1.0], [1.0, 0.8537], [0.9108, 0.9835], [0.9778, 0.9962], [0.9687, 1.0]]\n",
      "0.0025136299999999924\n"
     ]
    }
   ],
   "source": [
    "import numpy as np\n",
    "import pygmo as pg\n",
    "\n",
    "reference_point = [1, 1]\n",
    "x_plot = []\n",
    "y_plot = []\n",
    "for geration, front in population.pareto_history_front:\n",
    "    print(geration)\n",
    "    print([i.fitness_normalized for i in front])\n",
    "    front_np = np.array([i.fitness_normalized for i in front])\n",
    "    hypervolume = pg.hypervolume(front_np).compute(reference_point)\n",
    "    print(hypervolume)\n",
    "    x_plot.append(geration)\n",
    "    y_plot.append(hypervolume)\n",
    "# [i[1][1].fitness_normalized for i in population.pareto_history_front]"
   ],
   "metadata": {
    "collapsed": false,
    "ExecuteTime": {
     "end_time": "2023-09-29T00:25:35.154925917Z",
     "start_time": "2023-09-29T00:25:35.067170114Z"
    }
   },
   "id": "692a3a182fa17754"
  },
  {
   "cell_type": "code",
   "execution_count": 46,
   "outputs": [
    {
     "name": "stdout",
     "output_type": "stream",
     "text": [
      "0.021684659999999994\n"
     ]
    }
   ],
   "source": [
    "reference_point = [1, 1]\n",
    "fronts = np.array([[0.8803, 1.0], [0.9414, 0.6319], [0.9034, 0.997], [1.0, 0.621]])\n",
    "volume = pg.hypervolume(fronts).compute(reference_point)\n",
    "print(volume)"
   ],
   "metadata": {
    "collapsed": false,
    "ExecuteTime": {
     "end_time": "2023-09-29T00:00:59.697137644Z",
     "start_time": "2023-09-29T00:00:59.290270464Z"
    }
   },
   "id": "90789f2c6ad8743d"
  },
  {
   "cell_type": "code",
   "execution_count": 40,
   "outputs": [
    {
     "data": {
      "text/plain": "<Figure size 640x480 with 1 Axes>",
      "image/png": "[encoded data removed]"
     },
     "metadata": {},
     "output_type": "display_data"
    }
   ],
   "source": [
    "hv = matplotlib.pyplot\n",
    "hv.xlabel('Generation')\n",
    "hv.ylabel('Hypervolume')\n",
    "hv.xlim(0, 50)\n",
    "hv.ylim(0, 0.05)\n",
    "hv.plot(x_plot, y_plot)\n",
    "# hv.grid(True)\n",
    "hv.show()"
   ],
   "metadata": {
    "collapsed": false,
    "ExecuteTime": {
     "end_time": "2023-09-28T23:42:02.485550492Z",
     "start_time": "2023-09-28T23:42:02.076573432Z"
    }
   },
   "id": "6a1d96735e42d4a0"
  }
 ],
 "metadata": {
  "kernelspec": {
   "display_name": "Python 3",
   "language": "python",
   "name": "python3"
  },
  "language_info": {
   "codemirror_mode": {
    "name": "ipython",
    "version": 2
   },
   "file_extension": ".py",
   "mimetype": "text/x-python",
   "name": "python",
   "nbconvert_exporter": "python",
   "pygments_lexer": "ipython2",
   "version": "2.7.6"
  }
 },
 "nbformat": 4,
 "nbformat_minor": 5
}
