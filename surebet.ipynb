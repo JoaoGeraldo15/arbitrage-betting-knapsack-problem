{
 "cells": [
  {
   "cell_type": "code",
   "execution_count": 1,
   "id": "initial_id",
   "metadata": {
    "collapsed": true,
    "ExecuteTime": {
     "end_time": "2023-11-11T11:29:46.586821831Z",
     "start_time": "2023-11-11T11:29:37.584882613Z"
    }
   },
   "outputs": [],
   "source": [
    "import calendar\n",
    "from builtins import frozenset\n",
    "\n",
    "import pandas as pd\n",
    "import matplotlib.pyplot as plt\n",
    "from pygmo import population\n",
    "from websocket._http import proxy_info\n",
    "\n",
    "from src.model.models import Surebet\n",
    "import matplotlib.dates as mdates\n",
    "from typing import List\n",
    "import matplotlib\n",
    "from src.repository.surebet_repository import SurebetRepository"
   ]
  },
  {
   "cell_type": "markdown",
   "source": [
    "### Código para gerar gráficos"
   ],
   "metadata": {
    "collapsed": false
   },
   "id": "733c44d74f42e398"
  },
  {
   "cell_type": "code",
   "execution_count": 2,
   "outputs": [],
   "source": [
    "def config_plot(plt: matplotlib.pyplot):\n",
    "    # Defina o tamanho da figura (largura x altura) em polegadas\n",
    "    largura_figura = 20  # Ajuste a largura\n",
    "    altura_figura = 6    # Ajuste a altura\n",
    "    plt.figure(figsize=(largura_figura, altura_figura))\n",
    "    plt.xticks(rotation=90)\n",
    "\n",
    "def plotar(df: pd.DataFrame, eixos: tuple, title='Gráfico de Surebet por data'):\n",
    "    plt = matplotlib.pyplot\n",
    "    config_plot(plt)\n",
    "    plt.ylabel('Quantidade Surebet')\n",
    "    plt.title(title)\n",
    "    # df = df.query(f'{eixos[1]} != 0')\n",
    "    # plt.scatter(df[f'{eixos[0]}'], df[f'{eixos[1]}'])\n",
    "    plt.bar(df[f'{eixos[0]}'], df[f'{eixos[1]}'])\n",
    "\n",
    "    for i, valor in enumerate(df[f'{eixos[1]}']):\n",
    "        plt.text(i, valor + 0.1, str(valor), ha='center')\n",
    "    \n",
    "    plt.show()"
   ],
   "metadata": {
    "collapsed": false,
    "ExecuteTime": {
     "end_time": "2023-11-11T11:29:53.990633593Z",
     "start_time": "2023-11-11T11:29:53.971763800Z"
    }
   },
   "id": "a08919e21baaffe1"
  },
  {
   "cell_type": "code",
   "execution_count": 3,
   "outputs": [],
   "source": [
    "repository = SurebetRepository()\n"
   ],
   "metadata": {
    "collapsed": false,
    "ExecuteTime": {
     "end_time": "2023-11-11T11:30:00.379830907Z",
     "start_time": "2023-11-11T11:30:00.374000594Z"
    }
   },
   "id": "7ee5f8c81d3e3c45"
  },
  {
   "cell_type": "markdown",
   "source": [
    "Frequência por dia:\n",
    "'D' ou '1D' para intervalos de um dia.\n",
    "\n",
    "Frequência por hora:\n",
    "'H' ou '1H' para intervalos de uma hora.\n",
    "\n",
    "Frequência por minuto:\n",
    "'T' ou '1T' para intervalos de um minuto.\n",
    "\n",
    "Frequência por segundo:\n",
    "'S' ou '1S' para intervalos de um segundo.\n",
    "\n",
    "Frequência por semana:\n",
    "'W' ou '1W' para intervalos de uma semana.\n",
    "\n",
    "Frequência por mês:\n",
    "'M' ou '1M' para intervalos de um mês (final do mês).\n",
    "\n",
    "Frequência por trimestre:\n",
    "'Q' ou '3M' para intervalos de trimestre.\n",
    "\n",
    "Frequência por ano:\n",
    "'Y' ou '1Y' para intervalos de um ano."
   ],
   "metadata": {
    "collapsed": false
   },
   "id": "64ae460a6ba7490"
  },
  {
   "cell_type": "code",
   "execution_count": 5,
   "outputs": [],
   "source": [
    "def list_to_dataframe(dados: List[Surebet]) -> pd.DataFrame:\n",
    "    df = pd.DataFrame.from_records([vars(i) for i in dados])\n",
    "    df = df[['game_id', 'bookmaker_key_OVER', 'bookmaker_key_UNDER', 'odd_OVER', 'odd_UNDER', 'last_update_OVER', 'last_update_UNDER', 'profit']]\n",
    "    return df\n",
    "\n",
    "\n",
    "def setar_intervalo_df(df: pd.DataFrame, interval: tuple, freq: str, is_monthly = False):\n",
    "    \"\"\"\n",
    "    Define intervalos de tempo em um DataFrame com base em um range e uma frequência.\n",
    "\n",
    "    Esta função recebe um DataFrame, um range de datas e uma frequência e cria uma nova coluna\n",
    "    no DataFrame que associa cada registro a um intervalo de tempo correspondente.\n",
    "\n",
    "    Args:\n",
    "        df (pd.DataFrame): O DataFrame contendo os dados a serem processados.\n",
    "        interval (tuple): Uma tupla que especifica o início e o fim do intervalo de datas no formato 'AAAA-MM-DD'.\n",
    "        freq (str): Uma string que especifica a frequência para criar os intervalos de tempo, por exemplo, '1H' para 1 hora.\n",
    "\n",
    "    Returns:\n",
    "        None: A função modifica o DataFrame original, adicionando a coluna 'Intervalo' com os intervalos correspondentes.\n",
    "    \"\"\"\n",
    "    \n",
    "    # Definir os intervalos manualmente \n",
    "    intervalos = []\n",
    "    if is_monthly:    \n",
    "        for i in range(1, 13):\n",
    "            last_day_month = calendar.monthrange(2023, i)[1]\n",
    "            intervalos.extend(list(pd.date_range(start=f'2023-{i}-01', end=f'2023-{i}-{last_day_month}', freq=(str(last_day_month - 1)) + 'D')))\n",
    "    else:\n",
    "        intervalos = pd.date_range(start=f'{interval[0]}', end=f'{interval[1]}', freq=f'{freq}')\n",
    "    \n",
    "    # Arredondando os minutos com base nos segundos\n",
    "    # df['last_update_OVER'] = df['last_update_OVER'].dt.round('T')  todo testano outras formas de arredondar, voltar esse código depois\n",
    "    # df['last_update_OVER'] = df['last_update_OVER'].dt.floor('T')\n",
    "\n",
    "    posicao = df.columns.get_loc('last_update_UNDER')  # Obtém o índice da coluna 'last_update_UNDER'\n",
    "    \n",
    "    # Criar uma nova coluna com o intervalo correspondente a cada registro\n",
    "    df.insert(posicao, 'intervalo', pd.cut(df['last_update_OVER'], bins=intervalos))\n"
   ],
   "metadata": {
    "collapsed": false,
    "ExecuteTime": {
     "end_time": "2023-11-11T11:30:28.402567236Z",
     "start_time": "2023-11-11T11:30:28.356017573Z"
    }
   },
   "id": "eda18e95737839e3"
  },
  {
   "cell_type": "code",
   "execution_count": 6,
   "outputs": [],
   "source": [
    "from datetime import datetime\n",
    "\n",
    "from enum import Enum\n",
    "\n",
    "class IntervaloTemporal(Enum):\n",
    "    MES = 1\n",
    "    DIA = 2\n",
    "    HORA = 3\n",
    "    MINUTO = 4\n",
    "\n",
    "\n",
    "class ConfigPlot:\n",
    "    def __init__(self, intervalo, data_inicial, data_final):\n",
    "        self.intervalo = intervalo\n",
    "        self.mascara_data = self.get_mascara_data(intervalo)\n",
    "        self.data_inicial = data_inicial\n",
    "        self.data_final = data_final\n",
    "\n",
    "    def get_mascara_data(self, intervalo):\n",
    "        mes = ['M', '30D', '31D']\n",
    "        if intervalo in mes:\n",
    "            return '%m-%Y'\n",
    "        elif 'D' in intervalo:\n",
    "            return '%d-%m-%Y'\n",
    "        elif 'H' in intervalo or 'T' in intervalo:\n",
    "            return '%H:%M:%S'\n",
    "        else:\n",
    "            raise ValueError(\"Intervalo não suportado\")\n",
    "\n",
    "def criar_config_plot(intervalo, data_inicial, data_final):\n",
    "    return ConfigPlot(intervalo, data_inicial, data_final)\n",
    "\n",
    "def gerar_plot_surebet(config: ConfigPlot, intervalo: IntervaloTemporal, title=''):\n",
    "    lista_surebet = repository.find_all_unique_between(config.data_inicial, config.data_final)\n",
    "    df = list_to_dataframe(lista_surebet)\n",
    "    setar_intervalo_df(df, (config.data_inicial, config.data_final), config.intervalo, is_monthly = (intervalo == IntervaloTemporal.MES))\n",
    "    \n",
    "    # Agrupando a quantidade de surebets pelo intervalo\n",
    "    resultado = df.groupby('intervalo').size().reset_index(name='quantidade')\n",
    "    df_to_plot = pd.DataFrame({'intervalo': resultado['intervalo'].apply(lambda x: x.left.strftime(config.mascara_data)), 'quantidade': resultado['quantidade']})\n",
    "    \n",
    "    # print(df_to_plot.head().to_string())\n",
    "    \n",
    "    if intervalo == IntervaloTemporal.HORA or intervalo == IntervaloTemporal.MINUTO:\n",
    "        df_to_plot = pd.DataFrame({'intervalo': resultado['intervalo'].apply(lambda x: x.left.strftime(config.mascara_data) + ' - ' + x.right.strftime(config.mascara_data)), 'quantidade': resultado['quantidade']})\n",
    "\n",
    "    # print(df_to_plot.head().to_string())\n",
    "    if intervalo == IntervaloTemporal.MES:  # Somando os intervalos para não ficar com dois registros por mês ex: 01-01 e 31-01\n",
    "        df_to_plot = df_to_plot.groupby('intervalo').sum().reset_index()\n",
    "    \n",
    "    plotar(df_to_plot, ('intervalo', 'quantidade'), title=title)\n"
   ],
   "metadata": {
    "collapsed": false,
    "ExecuteTime": {
     "end_time": "2023-11-11T11:30:46.935999347Z",
     "start_time": "2023-11-11T11:30:46.919990374Z"
    }
   },
   "id": "caef4c172dd9be4c"
  },
  {
   "cell_type": "code",
   "execution_count": 8,
   "outputs": [
    {
     "name": "stdout",
     "output_type": "stream",
     "text": [
      "                             game_id bookmaker_key_OVER bookmaker_key_UNDER  odd_OVER  odd_UNDER    last_update_OVER                                   intervalo   last_update_UNDER    profit\n",
      "0   9c7d098f5481e71d6ab25f8f9d64dafd          MATCHBOOK           UNIBET_EU      1.96       2.10 2023-09-02 14:13:32  (2023-09-02 14:10:00, 2023-09-02 14:15:00] 2023-09-02 14:13:34  1.360544\n",
      "1   92a7c99b9a6c9b7f3e25c2da6d0570f9          MATCHBOOK            PINNACLE      2.32       1.94 2023-09-02 14:18:57  (2023-09-02 14:15:00, 2023-09-02 14:20:00] 2023-09-02 14:18:58  5.350160\n",
      "2   c5605d72a41240caa5e15b938ccf6983            ONEXBET           UNIBET_EU      2.12       2.00 2023-09-02 14:02:34  (2023-09-02 14:00:00, 2023-09-02 14:05:00] 2023-09-02 13:58:02  2.830189\n",
      "3   761b437b3ce155bdfb3edfd36d753975          MATCHBOOK            PINNACLE      2.30       1.88 2023-09-02 14:58:22  (2023-09-02 14:55:00, 2023-09-02 15:00:00] 2023-09-02 14:58:22  3.330250\n",
      "4   c5605d72a41240caa5e15b938ccf6983            ONEXBET         WILLIAMHILL      2.12       1.91 2023-09-02 14:02:34  (2023-09-02 14:00:00, 2023-09-02 14:05:00] 2023-09-02 14:00:09  0.474168\n",
      "5   fc68573a3f78e93b7cfc784b6eb05b6a          UNIBET_EU            PINNACLE      2.25       1.93 2023-09-02 14:18:45  (2023-09-02 14:15:00, 2023-09-02 14:20:00] 2023-09-02 14:18:44  3.742084\n",
      "6   9d343fa61fbd30d6cef647794ddd9e36          MATCHBOOK            PINNACLE      2.18       1.85 2023-09-02 14:13:19  (2023-09-02 14:10:00, 2023-09-02 14:15:00] 2023-09-02 14:11:11  0.074386\n",
      "7   f38fbd8eb112d7de44a3a49be7952ca9          UNIBET_EU           MATCHBOOK      1.85       2.18 2023-09-02 14:20:06  (2023-09-02 14:20:00, 2023-09-02 14:25:00] 2023-09-02 14:15:11  0.074386\n",
      "8   d06d1a1b5c35ee24078501d7d843d7f6          MATCHBOOK            PINNACLE      2.44       1.93 2023-09-02 14:24:35  (2023-09-02 14:20:00, 2023-09-02 14:25:00] 2023-09-02 14:24:35  7.202922\n",
      "9   d06d1a1b5c35ee24078501d7d843d7f6          UNIBET_EU           MATCHBOOK      1.91       2.12 2023-09-02 14:13:37  (2023-09-02 14:10:00, 2023-09-02 14:15:00] 2023-09-02 14:08:59  0.474168\n",
      "10  2e2871c70a3f30f2b3af9ee6ffa7dfd1          UNIBET_EU            PINNACLE      2.28       1.91 2023-09-02 14:24:34  (2023-09-02 14:20:00, 2023-09-02 14:25:00] 2023-09-02 14:24:35  3.784330\n",
      "11  fc68573a3f78e93b7cfc784b6eb05b6a          MATCHBOOK           UNIBET_EU      1.93       2.08 2023-09-02 14:44:40  (2023-09-02 14:40:00, 2023-09-02 14:45:00] 2023-09-02 14:44:42  0.109605\n",
      "12  9c7d098f5481e71d6ab25f8f9d64dafd          MATCHBOOK            PINNACLE      2.12       2.00 2023-09-02 14:18:55  (2023-09-02 14:15:00, 2023-09-02 14:20:00] 2023-09-02 14:18:56  2.830189\n",
      "13  cc3c9975e90b11038a2bc2e5c31f0dbc          MATCHBOOK            PINNACLE      2.34       1.90 2023-09-02 14:24:32  (2023-09-02 14:20:00, 2023-09-02 14:25:00] 2023-09-02 14:24:35  4.633378\n",
      "14  19519db3fefdc819e24b01607a46dda0          MATCHBOOK            PINNACLE      2.14       1.88 2023-09-02 14:13:19  (2023-09-02 14:10:00, 2023-09-02 14:15:00] 2023-09-02 14:11:11  0.079539\n",
      "15  56df41ae2cf5e587d678e1d0e24026e4          UNIBET_EU            PINNACLE      2.23       1.91 2023-09-02 14:13:37  (2023-09-02 14:10:00, 2023-09-02 14:15:00] 2023-09-02 14:13:37  2.800930\n",
      "16  c5605d72a41240caa5e15b938ccf6983          MATCHBOOK             ONEXBET      2.16       1.90 2023-09-02 14:17:16  (2023-09-02 14:15:00, 2023-09-02 14:20:00] 2023-09-02 14:13:56  1.072125\n",
      "17  81da0b95033cf5d40f8c07f86c6b13bb          MATCHBOOK           UNIBET_EU      1.66       2.55 2023-09-02 14:24:20  (2023-09-02 14:20:00, 2023-09-02 14:25:00] 2023-09-02 14:20:18  0.543350\n",
      "18  1df0b5af7cd15e5819c5a386ef4777d3          UNIBET_EU            PINNACLE      2.23       2.04 2023-09-02 14:58:30  (2023-09-02 14:55:00, 2023-09-02 15:00:00] 2023-09-02 14:58:27  6.137343\n",
      "19  243ab0a9d27ab33f324dac13747f94fa          MATCHBOOK            PINNACLE      2.28       1.85 2023-09-02 14:58:29  (2023-09-02 14:55:00, 2023-09-02 15:00:00] 2023-09-02 14:58:29  2.086297\n",
      "20  92a7c99b9a6c9b7f3e25c2da6d0570f9          UNIBET_EU            PINNACLE      2.18       1.94 2023-09-02 14:18:59  (2023-09-02 14:15:00, 2023-09-02 14:20:00] 2023-09-02 14:18:58  2.582049\n",
      "21  0c8003e0a038441d8b13f9edfd087f0f          MATCHBOOK            PINNACLE      2.36       1.86 2023-09-02 14:58:22  (2023-09-02 14:55:00, 2023-09-02 15:00:00] 2023-09-02 14:58:22  3.863678\n",
      "22  aaef08bed908be9dfbf276cac22628d7          MATCHBOOK           UNIBET_EU      2.30       1.94 2023-09-02 14:44:40  (2023-09-02 14:40:00, 2023-09-02 14:45:00] 2023-09-02 14:44:42  4.975347\n",
      "23  f38fbd8eb112d7de44a3a49be7952ca9          MATCHBOOK           UNIBET_EU      1.94       2.14 2023-09-02 14:20:02  (2023-09-02 14:20:00, 2023-09-02 14:25:00] 2023-09-02 14:15:12  1.724636\n",
      "24  c5605d72a41240caa5e15b938ccf6983          MATCHBOOK           NORDICBET      2.16       1.90 2023-09-02 14:17:16  (2023-09-02 14:15:00, 2023-09-02 14:20:00] 2023-09-02 14:17:16  1.072125\n",
      "25  c5605d72a41240caa5e15b938ccf6983          MATCHBOOK           UNIBET_EU      2.06       2.00 2023-09-02 14:00:10  (2023-09-02 14:00:00, 2023-09-02 14:05:00] 2023-09-02 13:58:02  1.456311\n",
      "26  fc68573a3f78e93b7cfc784b6eb05b6a          MATCHBOOK            PINNACLE      2.24       1.93 2023-09-02 14:18:44  (2023-09-02 14:15:00, 2023-09-02 14:20:00] 2023-09-02 14:18:44  3.543671\n",
      "27  2e2871c70a3f30f2b3af9ee6ffa7dfd1          MATCHBOOK            PINNACLE      2.36       1.91 2023-09-02 14:24:32  (2023-09-02 14:20:00, 2023-09-02 14:25:00] 2023-09-02 14:24:35  5.271098\n",
      "28  2e2871c70a3f30f2b3af9ee6ffa7dfd1          UNIBET_EU           MATCHBOOK      1.94       2.08 2023-09-02 14:13:34  (2023-09-02 14:10:00, 2023-09-02 14:15:00] 2023-09-02 14:08:56  0.376685\n",
      "29  0bf5eaab77bc90e2e84788fa9cfbf32e          UNIBET_EU           MATCHBOOK      2.38       1.76 2023-09-02 14:20:06  (2023-09-02 14:20:00, 2023-09-02 14:25:00] 2023-09-02 14:15:11  1.165011\n",
      "30  5fdf2f184ea0a881cefcffb9050e05b3          MATCHBOOK            PINNACLE      2.22       1.83 2023-09-02 14:13:19  (2023-09-02 14:10:00, 2023-09-02 14:15:00] 2023-09-02 14:11:11  0.310146\n",
      "31  56df41ae2cf5e587d678e1d0e24026e4          UNIBET_EU           MATCHBOOK      2.23       1.83 2023-09-02 14:13:37  (2023-09-02 14:10:00, 2023-09-02 14:15:00] 2023-09-02 14:08:59  0.512142\n",
      "32  c5605d72a41240caa5e15b938ccf6983            ONEXBET           MATCHBOOK      2.12       1.92 2023-09-02 14:02:34  (2023-09-02 14:00:00, 2023-09-02 14:05:00] 2023-09-02 14:00:10  0.746855\n",
      "33  c5605d72a41240caa5e15b938ccf6983           PINNACLE           UNIBET_EU      2.03       2.00 2023-09-02 14:00:11  (2023-09-02 14:00:00, 2023-09-02 14:05:00] 2023-09-02 13:58:02  0.738916\n",
      "34  56df41ae2cf5e587d678e1d0e24026e4          MATCHBOOK            PINNACLE      2.26       1.91 2023-09-02 14:13:35  (2023-09-02 14:10:00, 2023-09-02 14:15:00] 2023-09-02 14:13:37  3.396191\n",
      "35  cc3c9975e90b11038a2bc2e5c31f0dbc          UNIBET_EU            PINNACLE      2.23       1.90 2023-09-02 14:24:34  (2023-09-02 14:20:00, 2023-09-02 14:25:00] 2023-09-02 14:24:35  2.525372\n",
      "36  d06d1a1b5c35ee24078501d7d843d7f6          UNIBET_EU            PINNACLE      2.32       1.93 2023-09-02 14:24:38  (2023-09-02 14:20:00, 2023-09-02 14:25:00] 2023-09-02 14:24:35  5.083080\n",
      "37  243f80f9ba812ed830f97e468b69830f          MATCHBOOK           UNIBET_EU      1.76       2.32 2023-09-02 14:29:16  (2023-09-02 14:25:00, 2023-09-02 14:30:00] 2023-09-02 14:25:13  0.078370\n"
     ]
    },
    {
     "data": {
      "text/plain": "<Figure size 2000x600 with 1 Axes>",
      "image/png": "[encoded data removed]"
     },
     "metadata": {},
     "output_type": "display_data"
    }
   ],
   "source": [
    "meses = ConfigPlot('30D', '2023-01-01', '2023-12-31')\n",
    "gerar_plot_surebet(meses, intervalo=IntervaloTemporal.MES, title='Surebets identificadas em 2023')\n",
    "\n",
    "dias = ConfigPlot('1D', '2023-09-01 00:00:00', '2023-09-30 23:59:59')\n",
    "gerar_plot_surebet(dias, intervalo=IntervaloTemporal.DIA, title='Surebets identificadas em Setembro')\n",
    "\n",
    "horas = ConfigPlot('1H', '2023-09-02 00:00:00', '2023-09-02 23:59:59')\n",
    "gerar_plot_surebet(horas, intervalo=IntervaloTemporal.HORA, title='Surebets em 02/09/2023')\n",
    "\n",
    "minutos = ConfigPlot('5T', '2023-09-02 14:00:00', '2023-09-02 15:00:00')\n",
    "# minutos = ConfigPlot('5T', '2023-09-02 14:00:00', '2023-09-02 14:05:00')\n",
    "gerar_plot_surebet(minutos, intervalo=IntervaloTemporal.MINUTO, title='Surebets em 02/09/2023')"
   ],
   "metadata": {
    "collapsed": false,
    "ExecuteTime": {
     "end_time": "2023-11-11T12:11:35.107091005Z",
     "start_time": "2023-11-11T12:11:34.888104405Z"
    }
   },
   "id": "29e9ac867140bdc"
  },
  {
   "cell_type": "code",
   "execution_count": null,
   "outputs": [],
   "source": [
    "dias = ConfigPlot('1D', '2023-08-01 00:00:00', '2023-08-31 23:59:59')\n",
    "horas = ConfigPlot('1H', '2023-08-26 00:00:00', '2023-08-26 23:59:59')\n",
    "minutos = ConfigPlot('5T', '2023-09-01 19:00:00', '2023-09-01 20:00:00')\n",
    "gerar_plot_surebet(dias, False)\n",
    "gerar_plot_surebet(horas, False)"
   ],
   "metadata": {
    "collapsed": false
   },
   "id": "6b50f83227db465"
  }
 ],
 "metadata": {
  "kernelspec": {
   "display_name": "Python 3",
   "language": "python",
   "name": "python3"
  },
  "language_info": {
   "codemirror_mode": {
    "name": "ipython",
    "version": 2
   },
   "file_extension": ".py",
   "mimetype": "text/x-python",
   "name": "python",
   "nbconvert_exporter": "python",
   "pygments_lexer": "ipython2",
   "version": "2.7.6"
  }
 },
 "nbformat": 4,
 "nbformat_minor": 5
}
